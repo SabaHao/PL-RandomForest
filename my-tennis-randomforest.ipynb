{
 "cells": [
  {
   "cell_type": "markdown",
   "id": "e284d2f7",
   "metadata": {
    "papermill": {
     "duration": 0.007001,
     "end_time": "2023-11-04T12:50:55.304133",
     "exception": false,
     "start_time": "2023-11-04T12:50:55.297132",
     "status": "completed"
    },
    "tags": []
   },
   "source": [
    "**Predicting Tennis matches results with Random Forest algorithm**\n",
    "\n",
    "After understanding the dataset and how the tennis league I will try to predict the results of the matches."
   ]
  },
  {
   "cell_type": "code",
   "execution_count": 1,
   "id": "6a86c68a",
   "metadata": {
    "_cell_guid": "b1076dfc-b9ad-4769-8c92-a6c4dae69d19",
    "_uuid": "8f2839f25d086af736a60e9eeb907d3b93b6e0e5",
    "execution": {
     "iopub.execute_input": "2023-11-04T12:50:55.321593Z",
     "iopub.status.busy": "2023-11-04T12:50:55.320867Z",
     "iopub.status.idle": "2023-11-04T12:50:55.753851Z",
     "shell.execute_reply": "2023-11-04T12:50:55.752605Z"
    },
    "papermill": {
     "duration": 0.444055,
     "end_time": "2023-11-04T12:50:55.756828",
     "exception": false,
     "start_time": "2023-11-04T12:50:55.312773",
     "status": "completed"
    },
    "tags": []
   },
   "outputs": [
    {
     "name": "stdout",
     "output_type": "stream",
     "text": [
      "/kaggle/input/atp-tennis-2000-2023daily-pull/atp_tennis.csv\n"
     ]
    }
   ],
   "source": [
    "# Import the packages I will need in the developemnt of my machine learning algorithm\n",
    "\n",
    "import numpy as np # linear algebra\n",
    "import pandas as pd # data processing, CSV file I/O (e.g. pd.read_csv)\n",
    "\n",
    "# Import the data set I downloaded and uploaded to Kaggle (\"Compact tennis dataset\")\n",
    "# After uploading and retrieve the file, I will ask teh program to output it's path, so that I will be able to import it.\n",
    "\n",
    "import os\n",
    "for dirname, _, filenames in os.walk('/kaggle/input'):\n",
    "    for filename in filenames:\n",
    "        print(os.path.join(dirname, filename))\n"
   ]
  },
  {
   "cell_type": "markdown",
   "id": "3cf2792e",
   "metadata": {
    "papermill": {
     "duration": 0.006658,
     "end_time": "2023-11-04T12:50:55.770445",
     "exception": false,
     "start_time": "2023-11-04T12:50:55.763787",
     "status": "completed"
    },
    "tags": []
   },
   "source": [
    "**Showing the data for the first time**\n",
    "\n",
    "After importing the dataSets into my notebook, with the method .head() I will be able to show the first 5 rows of the DataSet, and in addittion, I will be able to take a look at the columns name, so that the develop of the algorithm will be easier.\n",
    "\n",
    "Since I have imported many .csv files, I also need to specify which file to show."
   ]
  },
  {
   "cell_type": "code",
   "execution_count": 2,
   "id": "00126ab2",
   "metadata": {
    "execution": {
     "iopub.execute_input": "2023-11-04T12:50:55.785806Z",
     "iopub.status.busy": "2023-11-04T12:50:55.785274Z",
     "iopub.status.idle": "2023-11-04T12:50:56.138495Z",
     "shell.execute_reply": "2023-11-04T12:50:56.137620Z"
    },
    "papermill": {
     "duration": 0.363563,
     "end_time": "2023-11-04T12:50:56.140788",
     "exception": false,
     "start_time": "2023-11-04T12:50:55.777225",
     "status": "completed"
    },
    "tags": []
   },
   "outputs": [
    {
     "data": {
      "text/html": [
       "<div>\n",
       "<style scoped>\n",
       "    .dataframe tbody tr th:only-of-type {\n",
       "        vertical-align: middle;\n",
       "    }\n",
       "\n",
       "    .dataframe tbody tr th {\n",
       "        vertical-align: top;\n",
       "    }\n",
       "\n",
       "    .dataframe thead th {\n",
       "        text-align: right;\n",
       "    }\n",
       "</style>\n",
       "<table border=\"1\" class=\"dataframe\">\n",
       "  <thead>\n",
       "    <tr style=\"text-align: right;\">\n",
       "      <th></th>\n",
       "      <th>Tournament</th>\n",
       "      <th>Date</th>\n",
       "      <th>Series</th>\n",
       "      <th>Court</th>\n",
       "      <th>Surface</th>\n",
       "      <th>Round</th>\n",
       "      <th>Best of</th>\n",
       "      <th>Player_1</th>\n",
       "      <th>Player_2</th>\n",
       "      <th>Winner</th>\n",
       "      <th>Rank_1</th>\n",
       "      <th>Rank_2</th>\n",
       "      <th>Pts_1</th>\n",
       "      <th>Pts_2</th>\n",
       "      <th>Odd_1</th>\n",
       "      <th>Odd_2</th>\n",
       "      <th>Score</th>\n",
       "    </tr>\n",
       "  </thead>\n",
       "  <tbody>\n",
       "    <tr>\n",
       "      <th>0</th>\n",
       "      <td>Australian Hardcourt Championships</td>\n",
       "      <td>2000-01-03</td>\n",
       "      <td>International</td>\n",
       "      <td>Outdoor</td>\n",
       "      <td>Hard</td>\n",
       "      <td>1st Round</td>\n",
       "      <td>3</td>\n",
       "      <td>Dosedel S.</td>\n",
       "      <td>Ljubicic I.</td>\n",
       "      <td>Dosedel S.</td>\n",
       "      <td>63</td>\n",
       "      <td>77</td>\n",
       "      <td>-1</td>\n",
       "      <td>-1</td>\n",
       "      <td>-1.0</td>\n",
       "      <td>-1.0</td>\n",
       "      <td>6-4 6-2</td>\n",
       "    </tr>\n",
       "    <tr>\n",
       "      <th>1</th>\n",
       "      <td>Australian Hardcourt Championships</td>\n",
       "      <td>2000-01-03</td>\n",
       "      <td>International</td>\n",
       "      <td>Outdoor</td>\n",
       "      <td>Hard</td>\n",
       "      <td>1st Round</td>\n",
       "      <td>3</td>\n",
       "      <td>Clement A.</td>\n",
       "      <td>Enqvist T.</td>\n",
       "      <td>Enqvist T.</td>\n",
       "      <td>56</td>\n",
       "      <td>5</td>\n",
       "      <td>-1</td>\n",
       "      <td>-1</td>\n",
       "      <td>-1.0</td>\n",
       "      <td>-1.0</td>\n",
       "      <td>3-6 3-6</td>\n",
       "    </tr>\n",
       "    <tr>\n",
       "      <th>2</th>\n",
       "      <td>Australian Hardcourt Championships</td>\n",
       "      <td>2000-01-03</td>\n",
       "      <td>International</td>\n",
       "      <td>Outdoor</td>\n",
       "      <td>Hard</td>\n",
       "      <td>1st Round</td>\n",
       "      <td>3</td>\n",
       "      <td>Escude N.</td>\n",
       "      <td>Baccanello P.</td>\n",
       "      <td>Escude N.</td>\n",
       "      <td>40</td>\n",
       "      <td>655</td>\n",
       "      <td>-1</td>\n",
       "      <td>-1</td>\n",
       "      <td>-1.0</td>\n",
       "      <td>-1.0</td>\n",
       "      <td>6-7 7-5 6-3</td>\n",
       "    </tr>\n",
       "    <tr>\n",
       "      <th>3</th>\n",
       "      <td>Australian Hardcourt Championships</td>\n",
       "      <td>2000-01-03</td>\n",
       "      <td>International</td>\n",
       "      <td>Outdoor</td>\n",
       "      <td>Hard</td>\n",
       "      <td>1st Round</td>\n",
       "      <td>3</td>\n",
       "      <td>Knippschild J.</td>\n",
       "      <td>Federer R.</td>\n",
       "      <td>Federer R.</td>\n",
       "      <td>87</td>\n",
       "      <td>65</td>\n",
       "      <td>-1</td>\n",
       "      <td>-1</td>\n",
       "      <td>-1.0</td>\n",
       "      <td>-1.0</td>\n",
       "      <td>1-6 4-6</td>\n",
       "    </tr>\n",
       "    <tr>\n",
       "      <th>4</th>\n",
       "      <td>Australian Hardcourt Championships</td>\n",
       "      <td>2000-01-03</td>\n",
       "      <td>International</td>\n",
       "      <td>Outdoor</td>\n",
       "      <td>Hard</td>\n",
       "      <td>1st Round</td>\n",
       "      <td>3</td>\n",
       "      <td>Fromberg R.</td>\n",
       "      <td>Woodbridge T.</td>\n",
       "      <td>Fromberg R.</td>\n",
       "      <td>81</td>\n",
       "      <td>198</td>\n",
       "      <td>-1</td>\n",
       "      <td>-1</td>\n",
       "      <td>-1.0</td>\n",
       "      <td>-1.0</td>\n",
       "      <td>7-6 5-7 6-4</td>\n",
       "    </tr>\n",
       "  </tbody>\n",
       "</table>\n",
       "</div>"
      ],
      "text/plain": [
       "                           Tournament        Date         Series    Court  \\\n",
       "0  Australian Hardcourt Championships  2000-01-03  International  Outdoor   \n",
       "1  Australian Hardcourt Championships  2000-01-03  International  Outdoor   \n",
       "2  Australian Hardcourt Championships  2000-01-03  International  Outdoor   \n",
       "3  Australian Hardcourt Championships  2000-01-03  International  Outdoor   \n",
       "4  Australian Hardcourt Championships  2000-01-03  International  Outdoor   \n",
       "\n",
       "  Surface      Round  Best of        Player_1       Player_2       Winner  \\\n",
       "0    Hard  1st Round        3      Dosedel S.    Ljubicic I.   Dosedel S.   \n",
       "1    Hard  1st Round        3      Clement A.     Enqvist T.   Enqvist T.   \n",
       "2    Hard  1st Round        3       Escude N.  Baccanello P.    Escude N.   \n",
       "3    Hard  1st Round        3  Knippschild J.     Federer R.   Federer R.   \n",
       "4    Hard  1st Round        3     Fromberg R.  Woodbridge T.  Fromberg R.   \n",
       "\n",
       "   Rank_1  Rank_2  Pts_1  Pts_2  Odd_1  Odd_2           Score  \n",
       "0      63      77     -1     -1   -1.0   -1.0     6-4 6-2      \n",
       "1      56       5     -1     -1   -1.0   -1.0     3-6 3-6      \n",
       "2      40     655     -1     -1   -1.0   -1.0  6-7 7-5 6-3     \n",
       "3      87      65     -1     -1   -1.0   -1.0     1-6 4-6      \n",
       "4      81     198     -1     -1   -1.0   -1.0  7-6 5-7 6-4     "
      ]
     },
     "execution_count": 2,
     "metadata": {},
     "output_type": "execute_result"
    }
   ],
   "source": [
    "matches = pd.read_csv(\"/kaggle/input/atp-tennis-2000-2023daily-pull/atp_tennis.csv\")\n",
    "matches.head()"
   ]
  },
  {
   "cell_type": "markdown",
   "id": "5dd3607b",
   "metadata": {
    "papermill": {
     "duration": 0.007479,
     "end_time": "2023-11-04T12:50:56.155452",
     "exception": false,
     "start_time": "2023-11-04T12:50:56.147973",
     "status": "completed"
    },
    "tags": []
   },
   "source": [
    "**Understand better the Shape of the Dataset**\n",
    "\n",
    "After taking a first look at the DataSet we can take a look at the shape of it, which means how many column and rows the file actually have, in this case we start working on the DataSet when the overall shape of it it's going to be 61441 rows an 17 columns"
   ]
  },
  {
   "cell_type": "code",
   "execution_count": 3,
   "id": "1e732012",
   "metadata": {
    "execution": {
     "iopub.execute_input": "2023-11-04T12:50:56.172242Z",
     "iopub.status.busy": "2023-11-04T12:50:56.171557Z",
     "iopub.status.idle": "2023-11-04T12:50:56.177054Z",
     "shell.execute_reply": "2023-11-04T12:50:56.176269Z"
    },
    "papermill": {
     "duration": 0.016214,
     "end_time": "2023-11-04T12:50:56.179179",
     "exception": false,
     "start_time": "2023-11-04T12:50:56.162965",
     "status": "completed"
    },
    "tags": []
   },
   "outputs": [
    {
     "data": {
      "text/plain": [
       "(61441, 17)"
      ]
     },
     "execution_count": 3,
     "metadata": {},
     "output_type": "execute_result"
    }
   ],
   "source": [
    "# Shows how many columns and row are in the dataset\n",
    "matches.shape"
   ]
  },
  {
   "cell_type": "markdown",
   "id": "60a775a5",
   "metadata": {
    "papermill": {
     "duration": 0.007123,
     "end_time": "2023-11-04T12:50:56.193640",
     "exception": false,
     "start_time": "2023-11-04T12:50:56.186517",
     "status": "completed"
    },
    "tags": []
   },
   "source": [
    "**Fixing the datatypes**\n",
    "\n",
    "For most of machine algorithm to work, they must work with integers DataType, and the Random Forest also need. So we have to convert some of the DataType from object into integer, or into some kind of integers. First of all we have to check what DataType we have in our DataSet, then we can choose the Data we want to work with, and if they are not integers already we have to convert it."
   ]
  },
  {
   "cell_type": "code",
   "execution_count": 4,
   "id": "b8f2a3bb",
   "metadata": {
    "execution": {
     "iopub.execute_input": "2023-11-04T12:50:56.210912Z",
     "iopub.status.busy": "2023-11-04T12:50:56.210149Z",
     "iopub.status.idle": "2023-11-04T12:50:56.247165Z",
     "shell.execute_reply": "2023-11-04T12:50:56.246271Z"
    },
    "papermill": {
     "duration": 0.048242,
     "end_time": "2023-11-04T12:50:56.249538",
     "exception": false,
     "start_time": "2023-11-04T12:50:56.201296",
     "status": "completed"
    },
    "tags": []
   },
   "outputs": [
    {
     "data": {
      "text/plain": [
       "Tournament            object\n",
       "Date                  object\n",
       "Series                object\n",
       "Court                 object\n",
       "Surface               object\n",
       "Round                 object\n",
       "Best of                int64\n",
       "Player_1              object\n",
       "Player_2              object\n",
       "Winner                object\n",
       "Rank_1                 int64\n",
       "Rank_2                 int64\n",
       "Pts_1                  int64\n",
       "Pts_2                  int64\n",
       "Odd_1                float64\n",
       "Odd_2                float64\n",
       "Score                 object\n",
       "date          datetime64[ns]\n",
       "dtype: object"
      ]
     },
     "execution_count": 4,
     "metadata": {},
     "output_type": "execute_result"
    }
   ],
   "source": [
    "# Check what DataType we have in our DataSet\n",
    "matches[\"date\"] = pd.to_datetime(matches[\"Date\"])\n",
    "matches.dtypes"
   ]
  },
  {
   "cell_type": "markdown",
   "id": "a646a3e9",
   "metadata": {
    "papermill": {
     "duration": 0.007158,
     "end_time": "2023-11-04T12:50:56.264349",
     "exception": false,
     "start_time": "2023-11-04T12:50:56.257191",
     "status": "completed"
    },
    "tags": []
   },
   "source": [
    "**Converting the Date type**\n",
    "\n",
    "Here I decided to only convert the Date column, but in order to increase the accuracy, in the future more columns may be converted and used in teh algorithm"
   ]
  },
  {
   "cell_type": "markdown",
   "id": "2174afef",
   "metadata": {
    "papermill": {
     "duration": 0.007481,
     "end_time": "2023-11-04T12:50:56.279310",
     "exception": false,
     "start_time": "2023-11-04T12:50:56.271829",
     "status": "completed"
    },
    "tags": []
   },
   "source": [
    "**Creating the Predictors**\n",
    "\n",
    "In the Random Forest algorithm, predictors, also known as features or independent variables, are the variables used to make predictions. These predictors are the characteristics or attributes of the data that are input into the algorithm to train the model and subsequently used to make predictions on new, unseen data.\n",
    "\n",
    "In the context of predicting Premier League football matches, our predictors will include various features related to the result, opponents, time and day of the week. In order to increase the accuracy these predictors might include team statistics (e.g., previous match results, goal difference, number of goals scored), player performance metrics (e.g., goals, assists, yellow cards), historical data (e.g., head-to-head records, past performance in similar scenarios), and various other factors that might influence the outcome of a match."
   ]
  },
  {
   "cell_type": "code",
   "execution_count": 5,
   "id": "c6c69e05",
   "metadata": {
    "execution": {
     "iopub.execute_input": "2023-11-04T12:50:56.296916Z",
     "iopub.status.busy": "2023-11-04T12:50:56.296242Z",
     "iopub.status.idle": "2023-11-04T12:50:56.343134Z",
     "shell.execute_reply": "2023-11-04T12:50:56.342057Z"
    },
    "papermill": {
     "duration": 0.058974,
     "end_time": "2023-11-04T12:50:56.345915",
     "exception": false,
     "start_time": "2023-11-04T12:50:56.286941",
     "status": "completed"
    },
    "tags": []
   },
   "outputs": [],
   "source": [
    "# Create a new column representing the Indoor or Outdoor value\n",
    "matches[\"courtType\"] = matches[\"Court\"].astype(\"category\").cat.codes\n",
    "\n",
    "# Create a new column representing the kind of surface\n",
    "matches[\"groundType\"] = matches[\"Surface\"].astype(\"category\").cat.codes\n",
    "\n",
    "# Create a new column representing a code for each opponent\n",
    "matches[\"opponentCode\"] = matches[\"Player_2\"].astype(\"category\").cat.codes\n",
    "\n",
    "# Create a new column representing if the player1 won the game with a 1 or if it didn't with a 0\n",
    "matches[\"target\"] = (matches[\"Winner\"] == matches[\"Player_1\"]).astype(\"int\")\n",
    "\n",
    "\n",
    "\n",
    "\n",
    "\n",
    "\n",
    "\n",
    "\n",
    "\n",
    "\n",
    "\n"
   ]
  },
  {
   "cell_type": "code",
   "execution_count": 6,
   "id": "351ec618",
   "metadata": {
    "execution": {
     "iopub.execute_input": "2023-11-04T12:50:56.363021Z",
     "iopub.status.busy": "2023-11-04T12:50:56.362627Z",
     "iopub.status.idle": "2023-11-04T12:50:56.436044Z",
     "shell.execute_reply": "2023-11-04T12:50:56.434987Z"
    },
    "papermill": {
     "duration": 0.084976,
     "end_time": "2023-11-04T12:50:56.438603",
     "exception": false,
     "start_time": "2023-11-04T12:50:56.353627",
     "status": "completed"
    },
    "tags": []
   },
   "outputs": [
    {
     "data": {
      "text/html": [
       "<div>\n",
       "<style scoped>\n",
       "    .dataframe tbody tr th:only-of-type {\n",
       "        vertical-align: middle;\n",
       "    }\n",
       "\n",
       "    .dataframe tbody tr th {\n",
       "        vertical-align: top;\n",
       "    }\n",
       "\n",
       "    .dataframe thead th {\n",
       "        text-align: right;\n",
       "    }\n",
       "</style>\n",
       "<table border=\"1\" class=\"dataframe\">\n",
       "  <thead>\n",
       "    <tr style=\"text-align: right;\">\n",
       "      <th></th>\n",
       "      <th>Tournament</th>\n",
       "      <th>Date</th>\n",
       "      <th>Series</th>\n",
       "      <th>Court</th>\n",
       "      <th>Surface</th>\n",
       "      <th>Round</th>\n",
       "      <th>Best of</th>\n",
       "      <th>Player_1</th>\n",
       "      <th>Player_2</th>\n",
       "      <th>Winner</th>\n",
       "      <th>...</th>\n",
       "      <th>Pts_1</th>\n",
       "      <th>Pts_2</th>\n",
       "      <th>Odd_1</th>\n",
       "      <th>Odd_2</th>\n",
       "      <th>Score</th>\n",
       "      <th>date</th>\n",
       "      <th>courtType</th>\n",
       "      <th>groundType</th>\n",
       "      <th>opponentCode</th>\n",
       "      <th>target</th>\n",
       "    </tr>\n",
       "  </thead>\n",
       "  <tbody>\n",
       "    <tr>\n",
       "      <th>0</th>\n",
       "      <td>Australian Hardcourt Championships</td>\n",
       "      <td>2000-01-03</td>\n",
       "      <td>International</td>\n",
       "      <td>Outdoor</td>\n",
       "      <td>Hard</td>\n",
       "      <td>1st Round</td>\n",
       "      <td>3</td>\n",
       "      <td>Dosedel S.</td>\n",
       "      <td>Ljubicic I.</td>\n",
       "      <td>Dosedel S.</td>\n",
       "      <td>...</td>\n",
       "      <td>-1</td>\n",
       "      <td>-1</td>\n",
       "      <td>-1.00</td>\n",
       "      <td>-1.00</td>\n",
       "      <td>6-4 6-2</td>\n",
       "      <td>2000-01-03</td>\n",
       "      <td>1</td>\n",
       "      <td>3</td>\n",
       "      <td>730</td>\n",
       "      <td>1</td>\n",
       "    </tr>\n",
       "    <tr>\n",
       "      <th>1</th>\n",
       "      <td>Australian Hardcourt Championships</td>\n",
       "      <td>2000-01-03</td>\n",
       "      <td>International</td>\n",
       "      <td>Outdoor</td>\n",
       "      <td>Hard</td>\n",
       "      <td>1st Round</td>\n",
       "      <td>3</td>\n",
       "      <td>Clement A.</td>\n",
       "      <td>Enqvist T.</td>\n",
       "      <td>Enqvist T.</td>\n",
       "      <td>...</td>\n",
       "      <td>-1</td>\n",
       "      <td>-1</td>\n",
       "      <td>-1.00</td>\n",
       "      <td>-1.00</td>\n",
       "      <td>3-6 3-6</td>\n",
       "      <td>2000-01-03</td>\n",
       "      <td>1</td>\n",
       "      <td>3</td>\n",
       "      <td>349</td>\n",
       "      <td>0</td>\n",
       "    </tr>\n",
       "    <tr>\n",
       "      <th>2</th>\n",
       "      <td>Australian Hardcourt Championships</td>\n",
       "      <td>2000-01-03</td>\n",
       "      <td>International</td>\n",
       "      <td>Outdoor</td>\n",
       "      <td>Hard</td>\n",
       "      <td>1st Round</td>\n",
       "      <td>3</td>\n",
       "      <td>Escude N.</td>\n",
       "      <td>Baccanello P.</td>\n",
       "      <td>Escude N.</td>\n",
       "      <td>...</td>\n",
       "      <td>-1</td>\n",
       "      <td>-1</td>\n",
       "      <td>-1.00</td>\n",
       "      <td>-1.00</td>\n",
       "      <td>6-7 7-5 6-3</td>\n",
       "      <td>2000-01-03</td>\n",
       "      <td>1</td>\n",
       "      <td>3</td>\n",
       "      <td>62</td>\n",
       "      <td>1</td>\n",
       "    </tr>\n",
       "    <tr>\n",
       "      <th>3</th>\n",
       "      <td>Australian Hardcourt Championships</td>\n",
       "      <td>2000-01-03</td>\n",
       "      <td>International</td>\n",
       "      <td>Outdoor</td>\n",
       "      <td>Hard</td>\n",
       "      <td>1st Round</td>\n",
       "      <td>3</td>\n",
       "      <td>Knippschild J.</td>\n",
       "      <td>Federer R.</td>\n",
       "      <td>Federer R.</td>\n",
       "      <td>...</td>\n",
       "      <td>-1</td>\n",
       "      <td>-1</td>\n",
       "      <td>-1.00</td>\n",
       "      <td>-1.00</td>\n",
       "      <td>1-6 4-6</td>\n",
       "      <td>2000-01-03</td>\n",
       "      <td>1</td>\n",
       "      <td>3</td>\n",
       "      <td>369</td>\n",
       "      <td>0</td>\n",
       "    </tr>\n",
       "    <tr>\n",
       "      <th>4</th>\n",
       "      <td>Australian Hardcourt Championships</td>\n",
       "      <td>2000-01-03</td>\n",
       "      <td>International</td>\n",
       "      <td>Outdoor</td>\n",
       "      <td>Hard</td>\n",
       "      <td>1st Round</td>\n",
       "      <td>3</td>\n",
       "      <td>Fromberg R.</td>\n",
       "      <td>Woodbridge T.</td>\n",
       "      <td>Fromberg R.</td>\n",
       "      <td>...</td>\n",
       "      <td>-1</td>\n",
       "      <td>-1</td>\n",
       "      <td>-1.00</td>\n",
       "      <td>-1.00</td>\n",
       "      <td>7-6 5-7 6-4</td>\n",
       "      <td>2000-01-03</td>\n",
       "      <td>1</td>\n",
       "      <td>3</td>\n",
       "      <td>1367</td>\n",
       "      <td>1</td>\n",
       "    </tr>\n",
       "    <tr>\n",
       "      <th>...</th>\n",
       "      <td>...</td>\n",
       "      <td>...</td>\n",
       "      <td>...</td>\n",
       "      <td>...</td>\n",
       "      <td>...</td>\n",
       "      <td>...</td>\n",
       "      <td>...</td>\n",
       "      <td>...</td>\n",
       "      <td>...</td>\n",
       "      <td>...</td>\n",
       "      <td>...</td>\n",
       "      <td>...</td>\n",
       "      <td>...</td>\n",
       "      <td>...</td>\n",
       "      <td>...</td>\n",
       "      <td>...</td>\n",
       "      <td>...</td>\n",
       "      <td>...</td>\n",
       "      <td>...</td>\n",
       "      <td>...</td>\n",
       "      <td>...</td>\n",
       "    </tr>\n",
       "    <tr>\n",
       "      <th>61436</th>\n",
       "      <td>Vienna Open</td>\n",
       "      <td>2023-10-27</td>\n",
       "      <td>ATP500</td>\n",
       "      <td>Indoor</td>\n",
       "      <td>Hard</td>\n",
       "      <td>Quarterfinals</td>\n",
       "      <td>3</td>\n",
       "      <td>Rublev A.</td>\n",
       "      <td>Zverev A.</td>\n",
       "      <td>Rublev A.</td>\n",
       "      <td>...</td>\n",
       "      <td>4765</td>\n",
       "      <td>3460</td>\n",
       "      <td>2.00</td>\n",
       "      <td>1.80</td>\n",
       "      <td>6-1 6-7 6-3</td>\n",
       "      <td>2023-10-27</td>\n",
       "      <td>0</td>\n",
       "      <td>3</td>\n",
       "      <td>1407</td>\n",
       "      <td>1</td>\n",
       "    </tr>\n",
       "    <tr>\n",
       "      <th>61437</th>\n",
       "      <td>Vienna Open</td>\n",
       "      <td>2023-10-27</td>\n",
       "      <td>ATP500</td>\n",
       "      <td>Indoor</td>\n",
       "      <td>Hard</td>\n",
       "      <td>Quarterfinals</td>\n",
       "      <td>3</td>\n",
       "      <td>Tiafoe F.</td>\n",
       "      <td>Sinner J.</td>\n",
       "      <td>Sinner J.</td>\n",
       "      <td>...</td>\n",
       "      <td>2400</td>\n",
       "      <td>5000</td>\n",
       "      <td>4.33</td>\n",
       "      <td>1.22</td>\n",
       "      <td>3-6 4-6</td>\n",
       "      <td>2023-10-27</td>\n",
       "      <td>0</td>\n",
       "      <td>3</td>\n",
       "      <td>1162</td>\n",
       "      <td>0</td>\n",
       "    </tr>\n",
       "    <tr>\n",
       "      <th>61438</th>\n",
       "      <td>Vienna Open</td>\n",
       "      <td>2023-10-28</td>\n",
       "      <td>ATP500</td>\n",
       "      <td>Indoor</td>\n",
       "      <td>Hard</td>\n",
       "      <td>Semifinals</td>\n",
       "      <td>3</td>\n",
       "      <td>Medvedev D.</td>\n",
       "      <td>Tsitsipas S.</td>\n",
       "      <td>Medvedev D.</td>\n",
       "      <td>...</td>\n",
       "      <td>7355</td>\n",
       "      <td>4300</td>\n",
       "      <td>1.33</td>\n",
       "      <td>3.40</td>\n",
       "      <td>6-4 7-6</td>\n",
       "      <td>2023-10-28</td>\n",
       "      <td>0</td>\n",
       "      <td>3</td>\n",
       "      <td>1267</td>\n",
       "      <td>1</td>\n",
       "    </tr>\n",
       "    <tr>\n",
       "      <th>61439</th>\n",
       "      <td>Vienna Open</td>\n",
       "      <td>2023-10-28</td>\n",
       "      <td>ATP500</td>\n",
       "      <td>Indoor</td>\n",
       "      <td>Hard</td>\n",
       "      <td>Semifinals</td>\n",
       "      <td>3</td>\n",
       "      <td>Rublev A.</td>\n",
       "      <td>Sinner J.</td>\n",
       "      <td>Sinner J.</td>\n",
       "      <td>...</td>\n",
       "      <td>4765</td>\n",
       "      <td>5000</td>\n",
       "      <td>2.63</td>\n",
       "      <td>1.50</td>\n",
       "      <td>5-7 6-7</td>\n",
       "      <td>2023-10-28</td>\n",
       "      <td>0</td>\n",
       "      <td>3</td>\n",
       "      <td>1162</td>\n",
       "      <td>0</td>\n",
       "    </tr>\n",
       "    <tr>\n",
       "      <th>61440</th>\n",
       "      <td>Vienna Open</td>\n",
       "      <td>2023-10-29</td>\n",
       "      <td>ATP500</td>\n",
       "      <td>Indoor</td>\n",
       "      <td>Hard</td>\n",
       "      <td>The Final</td>\n",
       "      <td>3</td>\n",
       "      <td>Sinner J.</td>\n",
       "      <td>Medvedev D.</td>\n",
       "      <td>Sinner J.</td>\n",
       "      <td>...</td>\n",
       "      <td>5000</td>\n",
       "      <td>7355</td>\n",
       "      <td>2.00</td>\n",
       "      <td>1.80</td>\n",
       "      <td>7-6 4-6 6-3</td>\n",
       "      <td>2023-10-29</td>\n",
       "      <td>0</td>\n",
       "      <td>3</td>\n",
       "      <td>812</td>\n",
       "      <td>1</td>\n",
       "    </tr>\n",
       "  </tbody>\n",
       "</table>\n",
       "<p>61441 rows × 22 columns</p>\n",
       "</div>"
      ],
      "text/plain": [
       "                               Tournament        Date         Series    Court  \\\n",
       "0      Australian Hardcourt Championships  2000-01-03  International  Outdoor   \n",
       "1      Australian Hardcourt Championships  2000-01-03  International  Outdoor   \n",
       "2      Australian Hardcourt Championships  2000-01-03  International  Outdoor   \n",
       "3      Australian Hardcourt Championships  2000-01-03  International  Outdoor   \n",
       "4      Australian Hardcourt Championships  2000-01-03  International  Outdoor   \n",
       "...                                   ...         ...            ...      ...   \n",
       "61436                         Vienna Open  2023-10-27         ATP500   Indoor   \n",
       "61437                         Vienna Open  2023-10-27         ATP500   Indoor   \n",
       "61438                         Vienna Open  2023-10-28         ATP500   Indoor   \n",
       "61439                         Vienna Open  2023-10-28         ATP500   Indoor   \n",
       "61440                         Vienna Open  2023-10-29         ATP500   Indoor   \n",
       "\n",
       "      Surface          Round  Best of        Player_1       Player_2  \\\n",
       "0        Hard      1st Round        3      Dosedel S.    Ljubicic I.   \n",
       "1        Hard      1st Round        3      Clement A.     Enqvist T.   \n",
       "2        Hard      1st Round        3       Escude N.  Baccanello P.   \n",
       "3        Hard      1st Round        3  Knippschild J.     Federer R.   \n",
       "4        Hard      1st Round        3     Fromberg R.  Woodbridge T.   \n",
       "...       ...            ...      ...             ...            ...   \n",
       "61436    Hard  Quarterfinals        3       Rublev A.      Zverev A.   \n",
       "61437    Hard  Quarterfinals        3       Tiafoe F.      Sinner J.   \n",
       "61438    Hard     Semifinals        3     Medvedev D.   Tsitsipas S.   \n",
       "61439    Hard     Semifinals        3       Rublev A.      Sinner J.   \n",
       "61440    Hard      The Final        3       Sinner J.    Medvedev D.   \n",
       "\n",
       "            Winner  ...  Pts_1  Pts_2  Odd_1  Odd_2           Score  \\\n",
       "0       Dosedel S.  ...     -1     -1  -1.00  -1.00     6-4 6-2       \n",
       "1       Enqvist T.  ...     -1     -1  -1.00  -1.00     3-6 3-6       \n",
       "2        Escude N.  ...     -1     -1  -1.00  -1.00  6-7 7-5 6-3      \n",
       "3       Federer R.  ...     -1     -1  -1.00  -1.00     1-6 4-6       \n",
       "4      Fromberg R.  ...     -1     -1  -1.00  -1.00  7-6 5-7 6-4      \n",
       "...            ...  ...    ...    ...    ...    ...             ...   \n",
       "61436    Rublev A.  ...   4765   3460   2.00   1.80  6-1 6-7 6-3      \n",
       "61437    Sinner J.  ...   2400   5000   4.33   1.22     3-6 4-6       \n",
       "61438  Medvedev D.  ...   7355   4300   1.33   3.40     6-4 7-6       \n",
       "61439    Sinner J.  ...   4765   5000   2.63   1.50     5-7 6-7       \n",
       "61440    Sinner J.  ...   5000   7355   2.00   1.80  7-6 4-6 6-3      \n",
       "\n",
       "            date courtType groundType  opponentCode  target  \n",
       "0     2000-01-03         1          3           730       1  \n",
       "1     2000-01-03         1          3           349       0  \n",
       "2     2000-01-03         1          3            62       1  \n",
       "3     2000-01-03         1          3           369       0  \n",
       "4     2000-01-03         1          3          1367       1  \n",
       "...          ...       ...        ...           ...     ...  \n",
       "61436 2023-10-27         0          3          1407       1  \n",
       "61437 2023-10-27         0          3          1162       0  \n",
       "61438 2023-10-28         0          3          1267       1  \n",
       "61439 2023-10-28         0          3          1162       0  \n",
       "61440 2023-10-29         0          3           812       1  \n",
       "\n",
       "[61441 rows x 22 columns]"
      ]
     },
     "execution_count": 6,
     "metadata": {},
     "output_type": "execute_result"
    }
   ],
   "source": [
    "matches"
   ]
  },
  {
   "cell_type": "markdown",
   "id": "7215b9cd",
   "metadata": {
    "papermill": {
     "duration": 0.00792,
     "end_time": "2023-11-04T12:50:56.454700",
     "exception": false,
     "start_time": "2023-11-04T12:50:56.446780",
     "status": "completed"
    },
    "tags": []
   },
   "source": [
    "**Training the model**\n",
    "\n",
    "As soon as our basic predictors are created and added to the DataSet, we are able to Train our model. Training is one of the most, if not the most important part of our machine learnig algorithm, in my case, I decided to use all the data until the year 2023 as Training Data, and all the Data after the 2023 as testing data."
   ]
  },
  {
   "cell_type": "markdown",
   "id": "1f90b9d1",
   "metadata": {
    "papermill": {
     "duration": 0.007939,
     "end_time": "2023-11-04T12:50:56.470819",
     "exception": false,
     "start_time": "2023-11-04T12:50:56.462880",
     "status": "completed"
    },
    "tags": []
   },
   "source": [
    "**Random Forest algorithm**\n",
    "\n",
    "During the training phase of the Random Forest algorithm, each decision tree is trained to predict the target variable (in this case, the outcome of the Premier League football match) based on the subset of predictors assigned to it. The algorithm determines the importance of each predictor by measuring how much it contributes to reducing the impurity or increasing the information gain in the decision tree.\n",
    "\n",
    "When making predictions with the trained Random Forest model, the algorithm combines the predictions of all the decision trees by averaging (for regression problems) or voting (for classification problems) to generate the final prediction. Each decision tree contributes its own prediction based on the assigned subset of predictors, and the final prediction is determined by the collective wisdom of the entire ensemble.\n",
    "\n",
    "In summary, predictors in the Random Forest algorithm are the input variables that capture the relevant information and characteristics of the data used to train the model. These predictors are used by individual decision trees within the ensemble to make predictions, and the algorithm combines the predictions of all the decision trees to produce the final prediction."
   ]
  },
  {
   "cell_type": "code",
   "execution_count": 7,
   "id": "7c7b52f9",
   "metadata": {
    "execution": {
     "iopub.execute_input": "2023-11-04T12:50:56.489845Z",
     "iopub.status.busy": "2023-11-04T12:50:56.489456Z",
     "iopub.status.idle": "2023-11-04T12:53:31.107526Z",
     "shell.execute_reply": "2023-11-04T12:53:31.106186Z"
    },
    "papermill": {
     "duration": 154.644178,
     "end_time": "2023-11-04T12:53:31.123179",
     "exception": false,
     "start_time": "2023-11-04T12:50:56.479001",
     "status": "completed"
    },
    "tags": []
   },
   "outputs": [
    {
     "data": {
      "text/html": [
       "<style>#sk-container-id-1 {color: black;background-color: white;}#sk-container-id-1 pre{padding: 0;}#sk-container-id-1 div.sk-toggleable {background-color: white;}#sk-container-id-1 label.sk-toggleable__label {cursor: pointer;display: block;width: 100%;margin-bottom: 0;padding: 0.3em;box-sizing: border-box;text-align: center;}#sk-container-id-1 label.sk-toggleable__label-arrow:before {content: \"▸\";float: left;margin-right: 0.25em;color: #696969;}#sk-container-id-1 label.sk-toggleable__label-arrow:hover:before {color: black;}#sk-container-id-1 div.sk-estimator:hover label.sk-toggleable__label-arrow:before {color: black;}#sk-container-id-1 div.sk-toggleable__content {max-height: 0;max-width: 0;overflow: hidden;text-align: left;background-color: #f0f8ff;}#sk-container-id-1 div.sk-toggleable__content pre {margin: 0.2em;color: black;border-radius: 0.25em;background-color: #f0f8ff;}#sk-container-id-1 input.sk-toggleable__control:checked~div.sk-toggleable__content {max-height: 200px;max-width: 100%;overflow: auto;}#sk-container-id-1 input.sk-toggleable__control:checked~label.sk-toggleable__label-arrow:before {content: \"▾\";}#sk-container-id-1 div.sk-estimator input.sk-toggleable__control:checked~label.sk-toggleable__label {background-color: #d4ebff;}#sk-container-id-1 div.sk-label input.sk-toggleable__control:checked~label.sk-toggleable__label {background-color: #d4ebff;}#sk-container-id-1 input.sk-hidden--visually {border: 0;clip: rect(1px 1px 1px 1px);clip: rect(1px, 1px, 1px, 1px);height: 1px;margin: -1px;overflow: hidden;padding: 0;position: absolute;width: 1px;}#sk-container-id-1 div.sk-estimator {font-family: monospace;background-color: #f0f8ff;border: 1px dotted black;border-radius: 0.25em;box-sizing: border-box;margin-bottom: 0.5em;}#sk-container-id-1 div.sk-estimator:hover {background-color: #d4ebff;}#sk-container-id-1 div.sk-parallel-item::after {content: \"\";width: 100%;border-bottom: 1px solid gray;flex-grow: 1;}#sk-container-id-1 div.sk-label:hover label.sk-toggleable__label {background-color: #d4ebff;}#sk-container-id-1 div.sk-serial::before {content: \"\";position: absolute;border-left: 1px solid gray;box-sizing: border-box;top: 0;bottom: 0;left: 50%;z-index: 0;}#sk-container-id-1 div.sk-serial {display: flex;flex-direction: column;align-items: center;background-color: white;padding-right: 0.2em;padding-left: 0.2em;position: relative;}#sk-container-id-1 div.sk-item {position: relative;z-index: 1;}#sk-container-id-1 div.sk-parallel {display: flex;align-items: stretch;justify-content: center;background-color: white;position: relative;}#sk-container-id-1 div.sk-item::before, #sk-container-id-1 div.sk-parallel-item::before {content: \"\";position: absolute;border-left: 1px solid gray;box-sizing: border-box;top: 0;bottom: 0;left: 50%;z-index: -1;}#sk-container-id-1 div.sk-parallel-item {display: flex;flex-direction: column;z-index: 1;position: relative;background-color: white;}#sk-container-id-1 div.sk-parallel-item:first-child::after {align-self: flex-end;width: 50%;}#sk-container-id-1 div.sk-parallel-item:last-child::after {align-self: flex-start;width: 50%;}#sk-container-id-1 div.sk-parallel-item:only-child::after {width: 0;}#sk-container-id-1 div.sk-dashed-wrapped {border: 1px dashed gray;margin: 0 0.4em 0.5em 0.4em;box-sizing: border-box;padding-bottom: 0.4em;background-color: white;}#sk-container-id-1 div.sk-label label {font-family: monospace;font-weight: bold;display: inline-block;line-height: 1.2em;}#sk-container-id-1 div.sk-label-container {text-align: center;}#sk-container-id-1 div.sk-container {/* jupyter's `normalize.less` sets `[hidden] { display: none; }` but bootstrap.min.css set `[hidden] { display: none !important; }` so we also need the `!important` here to be able to override the default hidden behavior on the sphinx rendered scikit-learn.org. See: https://github.com/scikit-learn/scikit-learn/issues/21755 */display: inline-block !important;position: relative;}#sk-container-id-1 div.sk-text-repr-fallback {display: none;}</style><div id=\"sk-container-id-1\" class=\"sk-top-container\"><div class=\"sk-text-repr-fallback\"><pre>RandomForestClassifier(min_samples_split=10, n_estimators=1000, random_state=1)</pre><b>In a Jupyter environment, please rerun this cell to show the HTML representation or trust the notebook. <br />On GitHub, the HTML representation is unable to render, please try loading this page with nbviewer.org.</b></div><div class=\"sk-container\" hidden><div class=\"sk-item\"><div class=\"sk-estimator sk-toggleable\"><input class=\"sk-toggleable__control sk-hidden--visually\" id=\"sk-estimator-id-1\" type=\"checkbox\" checked><label for=\"sk-estimator-id-1\" class=\"sk-toggleable__label sk-toggleable__label-arrow\">RandomForestClassifier</label><div class=\"sk-toggleable__content\"><pre>RandomForestClassifier(min_samples_split=10, n_estimators=1000, random_state=1)</pre></div></div></div></div></div>"
      ],
      "text/plain": [
       "RandomForestClassifier(min_samples_split=10, n_estimators=1000, random_state=1)"
      ]
     },
     "execution_count": 7,
     "metadata": {},
     "output_type": "execute_result"
    }
   ],
   "source": [
    "# Training the machine learning model \n",
    "from sklearn.ensemble import RandomForestClassifier\n",
    "\n",
    "rf = RandomForestClassifier(n_estimators = 1000, min_samples_split = 10, random_state = 1)\n",
    "\n",
    "# Divide the dataset into train and test sections\n",
    "train = matches[matches[\"date\"] < '2023-01-01']\n",
    "test = matches[matches[\"date\"] > '2023-01-01']\n",
    "\n",
    "# A list of all the prdictors \n",
    "predictors = [\"opponentCode\", \"groundType\", \"courtType\", \"Rank_1\", \"Rank_2\", \"Pts_1\", \"Pts_2\", \"Odd_1\", \"Odd_2\"]\n",
    "\n",
    "# Fit the random forest model, fitting the predictors and trying to predict the target\n",
    "rf.fit(train[predictors], train[\"target\"])"
   ]
  },
  {
   "cell_type": "markdown",
   "id": "f474fac5",
   "metadata": {
    "papermill": {
     "duration": 0.010582,
     "end_time": "2023-11-04T12:53:31.146790",
     "exception": false,
     "start_time": "2023-11-04T12:53:31.136208",
     "status": "completed"
    },
    "tags": []
   },
   "source": [
    "**Generating the first prediction**\n",
    "\n",
    "After succeffully train the model, we are ready to generate some prediction based the previous results. As soon as we have our first prediction we can then calculate the accuracy of the model."
   ]
  },
  {
   "cell_type": "code",
   "execution_count": 8,
   "id": "99ff08fd",
   "metadata": {
    "execution": {
     "iopub.execute_input": "2023-11-04T12:53:31.166974Z",
     "iopub.status.busy": "2023-11-04T12:53:31.166567Z",
     "iopub.status.idle": "2023-11-04T12:53:32.142344Z",
     "shell.execute_reply": "2023-11-04T12:53:32.141160Z"
    },
    "papermill": {
     "duration": 0.989752,
     "end_time": "2023-11-04T12:53:32.145250",
     "exception": false,
     "start_time": "2023-11-04T12:53:31.155498",
     "status": "completed"
    },
    "tags": []
   },
   "outputs": [],
   "source": [
    "# Generate prediction, passing the test data and the predictors\n",
    "preds = rf.predict(test[predictors])\n",
    "\n",
    "# Need to describe the accuracy\n",
    "from sklearn.metrics import accuracy_score\n",
    "\n",
    "# Calculate the accuracy passing the test data, with the predictors and the prediction\n",
    "acc = accuracy_score(test[\"target\"], preds)"
   ]
  },
  {
   "cell_type": "markdown",
   "id": "32ef7f76",
   "metadata": {
    "papermill": {
     "duration": 0.008081,
     "end_time": "2023-11-04T12:53:32.161916",
     "exception": false,
     "start_time": "2023-11-04T12:53:32.153835",
     "status": "completed"
    },
    "tags": []
   },
   "source": [
    "**Accuracy**\n",
    "\n",
    "Our first acccuracy is actually pretty good, but we have to remember that this accuracy isn't just the winning case accuracy, but it's going to reflect also the loose and draw case. We will have to chance the method of calculation for the accuracy"
   ]
  },
  {
   "cell_type": "code",
   "execution_count": 9,
   "id": "49edf8c3",
   "metadata": {
    "execution": {
     "iopub.execute_input": "2023-11-04T12:53:32.182368Z",
     "iopub.status.busy": "2023-11-04T12:53:32.181827Z",
     "iopub.status.idle": "2023-11-04T12:53:32.190220Z",
     "shell.execute_reply": "2023-11-04T12:53:32.188451Z"
    },
    "papermill": {
     "duration": 0.022784,
     "end_time": "2023-11-04T12:53:32.193610",
     "exception": false,
     "start_time": "2023-11-04T12:53:32.170826",
     "status": "completed"
    },
    "tags": []
   },
   "outputs": [
    {
     "data": {
      "text/plain": [
       "0.6845070422535211"
      ]
     },
     "execution_count": 9,
     "metadata": {},
     "output_type": "execute_result"
    }
   ],
   "source": [
    "acc"
   ]
  },
  {
   "cell_type": "code",
   "execution_count": 10,
   "id": "85b32443",
   "metadata": {
    "execution": {
     "iopub.execute_input": "2023-11-04T12:53:32.213977Z",
     "iopub.status.busy": "2023-11-04T12:53:32.213496Z",
     "iopub.status.idle": "2023-11-04T12:53:32.249020Z",
     "shell.execute_reply": "2023-11-04T12:53:32.247788Z"
    },
    "papermill": {
     "duration": 0.04848,
     "end_time": "2023-11-04T12:53:32.251725",
     "exception": false,
     "start_time": "2023-11-04T12:53:32.203245",
     "status": "completed"
    },
    "tags": []
   },
   "outputs": [
    {
     "data": {
      "text/html": [
       "<div>\n",
       "<style scoped>\n",
       "    .dataframe tbody tr th:only-of-type {\n",
       "        vertical-align: middle;\n",
       "    }\n",
       "\n",
       "    .dataframe tbody tr th {\n",
       "        vertical-align: top;\n",
       "    }\n",
       "\n",
       "    .dataframe thead th {\n",
       "        text-align: right;\n",
       "    }\n",
       "</style>\n",
       "<table border=\"1\" class=\"dataframe\">\n",
       "  <thead>\n",
       "    <tr style=\"text-align: right;\">\n",
       "      <th>prediction</th>\n",
       "      <th>0</th>\n",
       "      <th>1</th>\n",
       "    </tr>\n",
       "    <tr>\n",
       "      <th>actual</th>\n",
       "      <th></th>\n",
       "      <th></th>\n",
       "    </tr>\n",
       "  </thead>\n",
       "  <tbody>\n",
       "    <tr>\n",
       "      <th>0</th>\n",
       "      <td>842</td>\n",
       "      <td>400</td>\n",
       "    </tr>\n",
       "    <tr>\n",
       "      <th>1</th>\n",
       "      <td>384</td>\n",
       "      <td>859</td>\n",
       "    </tr>\n",
       "  </tbody>\n",
       "</table>\n",
       "</div>"
      ],
      "text/plain": [
       "prediction    0    1\n",
       "actual              \n",
       "0           842  400\n",
       "1           384  859"
      ]
     },
     "execution_count": 10,
     "metadata": {},
     "output_type": "execute_result"
    }
   ],
   "source": [
    "# Create a new DataFrame to combine the actual values and the predicted values \n",
    "combined = pd.DataFrame(dict(actual=test[\"target\"], prediction=preds))\n",
    "\n",
    "# Show a table with the new DataFrame\n",
    "pd.crosstab(index = combined[\"actual\"], columns = combined[\"prediction\"])"
   ]
  },
  {
   "cell_type": "code",
   "execution_count": 11,
   "id": "2619590a",
   "metadata": {
    "execution": {
     "iopub.execute_input": "2023-11-04T12:53:32.271330Z",
     "iopub.status.busy": "2023-11-04T12:53:32.270915Z",
     "iopub.status.idle": "2023-11-04T12:53:32.296843Z",
     "shell.execute_reply": "2023-11-04T12:53:32.295617Z"
    },
    "papermill": {
     "duration": 0.038906,
     "end_time": "2023-11-04T12:53:32.299415",
     "exception": false,
     "start_time": "2023-11-04T12:53:32.260509",
     "status": "completed"
    },
    "tags": []
   },
   "outputs": [
    {
     "data": {
      "text/html": [
       "<div>\n",
       "<style scoped>\n",
       "    .dataframe tbody tr th:only-of-type {\n",
       "        vertical-align: middle;\n",
       "    }\n",
       "\n",
       "    .dataframe tbody tr th {\n",
       "        vertical-align: top;\n",
       "    }\n",
       "\n",
       "    .dataframe thead th {\n",
       "        text-align: right;\n",
       "    }\n",
       "</style>\n",
       "<table border=\"1\" class=\"dataframe\">\n",
       "  <thead>\n",
       "    <tr style=\"text-align: right;\">\n",
       "      <th></th>\n",
       "      <th>actual</th>\n",
       "      <th>predicted</th>\n",
       "      <th>Player_1</th>\n",
       "      <th>Player_2</th>\n",
       "    </tr>\n",
       "  </thead>\n",
       "  <tbody>\n",
       "    <tr>\n",
       "      <th>58956</th>\n",
       "      <td>1</td>\n",
       "      <td>1</td>\n",
       "      <td>Kecmanovic M.</td>\n",
       "      <td>O Connell C.</td>\n",
       "    </tr>\n",
       "    <tr>\n",
       "      <th>58957</th>\n",
       "      <td>0</td>\n",
       "      <td>1</td>\n",
       "      <td>Rune H.</td>\n",
       "      <td>Nishioka Y.</td>\n",
       "    </tr>\n",
       "    <tr>\n",
       "      <th>58958</th>\n",
       "      <td>1</td>\n",
       "      <td>0</td>\n",
       "      <td>Popyrin A.</td>\n",
       "      <td>Auger-Aliassime F.</td>\n",
       "    </tr>\n",
       "    <tr>\n",
       "      <th>58959</th>\n",
       "      <td>0</td>\n",
       "      <td>1</td>\n",
       "      <td>Thompson J.</td>\n",
       "      <td>Halys Q.</td>\n",
       "    </tr>\n",
       "    <tr>\n",
       "      <th>58960</th>\n",
       "      <td>1</td>\n",
       "      <td>0</td>\n",
       "      <td>Safiullin R.</td>\n",
       "      <td>Ymer M.</td>\n",
       "    </tr>\n",
       "    <tr>\n",
       "      <th>...</th>\n",
       "      <td>...</td>\n",
       "      <td>...</td>\n",
       "      <td>...</td>\n",
       "      <td>...</td>\n",
       "    </tr>\n",
       "    <tr>\n",
       "      <th>61436</th>\n",
       "      <td>1</td>\n",
       "      <td>0</td>\n",
       "      <td>Rublev A.</td>\n",
       "      <td>Zverev A.</td>\n",
       "    </tr>\n",
       "    <tr>\n",
       "      <th>61437</th>\n",
       "      <td>0</td>\n",
       "      <td>0</td>\n",
       "      <td>Tiafoe F.</td>\n",
       "      <td>Sinner J.</td>\n",
       "    </tr>\n",
       "    <tr>\n",
       "      <th>61438</th>\n",
       "      <td>1</td>\n",
       "      <td>1</td>\n",
       "      <td>Medvedev D.</td>\n",
       "      <td>Tsitsipas S.</td>\n",
       "    </tr>\n",
       "    <tr>\n",
       "      <th>61439</th>\n",
       "      <td>0</td>\n",
       "      <td>1</td>\n",
       "      <td>Rublev A.</td>\n",
       "      <td>Sinner J.</td>\n",
       "    </tr>\n",
       "    <tr>\n",
       "      <th>61440</th>\n",
       "      <td>1</td>\n",
       "      <td>0</td>\n",
       "      <td>Sinner J.</td>\n",
       "      <td>Medvedev D.</td>\n",
       "    </tr>\n",
       "  </tbody>\n",
       "</table>\n",
       "<p>2485 rows × 4 columns</p>\n",
       "</div>"
      ],
      "text/plain": [
       "       actual  predicted       Player_1            Player_2\n",
       "58956       1          1  Kecmanovic M.        O Connell C.\n",
       "58957       0          1        Rune H.         Nishioka Y.\n",
       "58958       1          0     Popyrin A.  Auger-Aliassime F.\n",
       "58959       0          1    Thompson J.            Halys Q.\n",
       "58960       1          0   Safiullin R.             Ymer M.\n",
       "...       ...        ...            ...                 ...\n",
       "61436       1          0      Rublev A.           Zverev A.\n",
       "61437       0          0      Tiafoe F.           Sinner J.\n",
       "61438       1          1    Medvedev D.        Tsitsipas S.\n",
       "61439       0          1      Rublev A.           Sinner J.\n",
       "61440       1          0      Sinner J.         Medvedev D.\n",
       "\n",
       "[2485 rows x 4 columns]"
      ]
     },
     "execution_count": 11,
     "metadata": {},
     "output_type": "execute_result"
    }
   ],
   "source": [
    "combined = pd.DataFrame(dict(actual = test[\"target\"], predicted = preds), index = test.index)\n",
    "combined = combined.merge(matches[[\"Player_1\", \"Player_2\"]], left_index = True, right_index = True)\n",
    "combined "
   ]
  }
 ],
 "metadata": {
  "kernelspec": {
   "display_name": "Python 3",
   "language": "python",
   "name": "python3"
  },
  "language_info": {
   "codemirror_mode": {
    "name": "ipython",
    "version": 3
   },
   "file_extension": ".py",
   "mimetype": "text/x-python",
   "name": "python",
   "nbconvert_exporter": "python",
   "pygments_lexer": "ipython3",
   "version": "3.10.12"
  },
  "papermill": {
   "default_parameters": {},
   "duration": 161.578293,
   "end_time": "2023-11-04T12:53:33.134117",
   "environment_variables": {},
   "exception": null,
   "input_path": "__notebook__.ipynb",
   "output_path": "__notebook__.ipynb",
   "parameters": {},
   "start_time": "2023-11-04T12:50:51.555824",
   "version": "2.4.0"
  }
 },
 "nbformat": 4,
 "nbformat_minor": 5
}

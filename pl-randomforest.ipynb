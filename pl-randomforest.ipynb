{
 "cells": [
  {
   "cell_type": "markdown",
   "id": "083299a9",
   "metadata": {
    "papermill": {
     "duration": 0.007325,
     "end_time": "2023-06-14T07:56:09.424780",
     "exception": false,
     "start_time": "2023-06-14T07:56:09.417455",
     "status": "completed"
    },
    "tags": []
   },
   "source": [
    "**Predicting Premier League Football Matches with Random Forest**\n",
    "\n",
    "In the world of sports, predicting match outcomes is an enticing challenge. With the vast amount of data available, machine learning algorithms provide a promising approach to unravel patterns and make accurate predictions. In this project, I delve into the thrilling world of the Premier League and harness the power of the Random Forest algorithm to predict football match results."
   ]
  },
  {
   "cell_type": "code",
   "execution_count": 1,
   "id": "15f2a8cb",
   "metadata": {
    "_cell_guid": "b1076dfc-b9ad-4769-8c92-a6c4dae69d19",
    "_kg_hide-output": true,
    "_uuid": "8f2839f25d086af736a60e9eeb907d3b93b6e0e5",
    "execution": {
     "iopub.execute_input": "2023-06-14T07:56:09.440875Z",
     "iopub.status.busy": "2023-06-14T07:56:09.440182Z",
     "iopub.status.idle": "2023-06-14T07:56:09.457227Z",
     "shell.execute_reply": "2023-06-14T07:56:09.456159Z"
    },
    "papermill": {
     "duration": 0.027868,
     "end_time": "2023-06-14T07:56:09.459753",
     "exception": false,
     "start_time": "2023-06-14T07:56:09.431885",
     "status": "completed"
    },
    "tags": []
   },
   "outputs": [
    {
     "name": "stdout",
     "output_type": "stream",
     "text": [
      "/kaggle/input/premierleague/matches.csv\n"
     ]
    }
   ],
   "source": [
    "# Import the packages I will need in the developemnt of my machine learning algorithm\n",
    "\n",
    "import numpy as np # Linear algebra\n",
    "import pandas as pd # Data processing\n",
    "\n",
    "# Import the data set I downloaded and uploaded to Kaggle (\"Premier league results for 2022-2023 season\")\n",
    "# After uploading and retrieve the file, I will ask teh program to output it's path, so that I will be able to import it.\n",
    "import os\n",
    "for dirname, _, filenames in os.walk('/kaggle/input'):\n",
    "    for filename in filenames:\n",
    "        print(os.path.join(dirname, filename))"
   ]
  },
  {
   "cell_type": "markdown",
   "id": "5caad097",
   "metadata": {
    "papermill": {
     "duration": 0.00673,
     "end_time": "2023-06-14T07:56:09.473659",
     "exception": false,
     "start_time": "2023-06-14T07:56:09.466929",
     "status": "completed"
    },
    "tags": []
   },
   "source": [
    "**Showing the Data from the DataSet for the first time**\n",
    "\n",
    "After importing the DataSet into my notebook, with the method .head() I will be able to show the first 5 rows of the DataSet, and in addittion, I will be able to take a look at the columns name, so that the develop of the algorithm will be easier."
   ]
  },
  {
   "cell_type": "code",
   "execution_count": 2,
   "id": "c2b58591",
   "metadata": {
    "execution": {
     "iopub.execute_input": "2023-06-14T07:56:09.491551Z",
     "iopub.status.busy": "2023-06-14T07:56:09.490875Z",
     "iopub.status.idle": "2023-06-14T07:56:09.569177Z",
     "shell.execute_reply": "2023-06-14T07:56:09.567946Z"
    },
    "papermill": {
     "duration": 0.08958,
     "end_time": "2023-06-14T07:56:09.571974",
     "exception": false,
     "start_time": "2023-06-14T07:56:09.482394",
     "status": "completed"
    },
    "tags": []
   },
   "outputs": [
    {
     "data": {
      "text/html": [
       "<div>\n",
       "<style scoped>\n",
       "    .dataframe tbody tr th:only-of-type {\n",
       "        vertical-align: middle;\n",
       "    }\n",
       "\n",
       "    .dataframe tbody tr th {\n",
       "        vertical-align: top;\n",
       "    }\n",
       "\n",
       "    .dataframe thead th {\n",
       "        text-align: right;\n",
       "    }\n",
       "</style>\n",
       "<table border=\"1\" class=\"dataframe\">\n",
       "  <thead>\n",
       "    <tr style=\"text-align: right;\">\n",
       "      <th></th>\n",
       "      <th>Unnamed: 0</th>\n",
       "      <th>date</th>\n",
       "      <th>time</th>\n",
       "      <th>comp</th>\n",
       "      <th>round</th>\n",
       "      <th>day</th>\n",
       "      <th>venue</th>\n",
       "      <th>result</th>\n",
       "      <th>gf</th>\n",
       "      <th>ga</th>\n",
       "      <th>...</th>\n",
       "      <th>match report</th>\n",
       "      <th>notes</th>\n",
       "      <th>sh</th>\n",
       "      <th>sot</th>\n",
       "      <th>dist</th>\n",
       "      <th>fk</th>\n",
       "      <th>pk</th>\n",
       "      <th>pkatt</th>\n",
       "      <th>season</th>\n",
       "      <th>team</th>\n",
       "    </tr>\n",
       "  </thead>\n",
       "  <tbody>\n",
       "    <tr>\n",
       "      <th>0</th>\n",
       "      <td>1</td>\n",
       "      <td>2021-08-15</td>\n",
       "      <td>16:30</td>\n",
       "      <td>Premier League</td>\n",
       "      <td>Matchweek 1</td>\n",
       "      <td>Sun</td>\n",
       "      <td>Away</td>\n",
       "      <td>L</td>\n",
       "      <td>0.0</td>\n",
       "      <td>1.0</td>\n",
       "      <td>...</td>\n",
       "      <td>Match Report</td>\n",
       "      <td>NaN</td>\n",
       "      <td>18.0</td>\n",
       "      <td>4.0</td>\n",
       "      <td>16.9</td>\n",
       "      <td>1.0</td>\n",
       "      <td>0.0</td>\n",
       "      <td>0.0</td>\n",
       "      <td>2022</td>\n",
       "      <td>Manchester City</td>\n",
       "    </tr>\n",
       "    <tr>\n",
       "      <th>1</th>\n",
       "      <td>2</td>\n",
       "      <td>2021-08-21</td>\n",
       "      <td>15:00</td>\n",
       "      <td>Premier League</td>\n",
       "      <td>Matchweek 2</td>\n",
       "      <td>Sat</td>\n",
       "      <td>Home</td>\n",
       "      <td>W</td>\n",
       "      <td>5.0</td>\n",
       "      <td>0.0</td>\n",
       "      <td>...</td>\n",
       "      <td>Match Report</td>\n",
       "      <td>NaN</td>\n",
       "      <td>16.0</td>\n",
       "      <td>4.0</td>\n",
       "      <td>17.3</td>\n",
       "      <td>1.0</td>\n",
       "      <td>0.0</td>\n",
       "      <td>0.0</td>\n",
       "      <td>2022</td>\n",
       "      <td>Manchester City</td>\n",
       "    </tr>\n",
       "    <tr>\n",
       "      <th>2</th>\n",
       "      <td>3</td>\n",
       "      <td>2021-08-28</td>\n",
       "      <td>12:30</td>\n",
       "      <td>Premier League</td>\n",
       "      <td>Matchweek 3</td>\n",
       "      <td>Sat</td>\n",
       "      <td>Home</td>\n",
       "      <td>W</td>\n",
       "      <td>5.0</td>\n",
       "      <td>0.0</td>\n",
       "      <td>...</td>\n",
       "      <td>Match Report</td>\n",
       "      <td>NaN</td>\n",
       "      <td>25.0</td>\n",
       "      <td>10.0</td>\n",
       "      <td>14.3</td>\n",
       "      <td>0.0</td>\n",
       "      <td>0.0</td>\n",
       "      <td>0.0</td>\n",
       "      <td>2022</td>\n",
       "      <td>Manchester City</td>\n",
       "    </tr>\n",
       "    <tr>\n",
       "      <th>3</th>\n",
       "      <td>4</td>\n",
       "      <td>2021-09-11</td>\n",
       "      <td>15:00</td>\n",
       "      <td>Premier League</td>\n",
       "      <td>Matchweek 4</td>\n",
       "      <td>Sat</td>\n",
       "      <td>Away</td>\n",
       "      <td>W</td>\n",
       "      <td>1.0</td>\n",
       "      <td>0.0</td>\n",
       "      <td>...</td>\n",
       "      <td>Match Report</td>\n",
       "      <td>NaN</td>\n",
       "      <td>25.0</td>\n",
       "      <td>8.0</td>\n",
       "      <td>14.0</td>\n",
       "      <td>0.0</td>\n",
       "      <td>0.0</td>\n",
       "      <td>0.0</td>\n",
       "      <td>2022</td>\n",
       "      <td>Manchester City</td>\n",
       "    </tr>\n",
       "    <tr>\n",
       "      <th>4</th>\n",
       "      <td>6</td>\n",
       "      <td>2021-09-18</td>\n",
       "      <td>15:00</td>\n",
       "      <td>Premier League</td>\n",
       "      <td>Matchweek 5</td>\n",
       "      <td>Sat</td>\n",
       "      <td>Home</td>\n",
       "      <td>D</td>\n",
       "      <td>0.0</td>\n",
       "      <td>0.0</td>\n",
       "      <td>...</td>\n",
       "      <td>Match Report</td>\n",
       "      <td>NaN</td>\n",
       "      <td>16.0</td>\n",
       "      <td>1.0</td>\n",
       "      <td>15.7</td>\n",
       "      <td>1.0</td>\n",
       "      <td>0.0</td>\n",
       "      <td>0.0</td>\n",
       "      <td>2022</td>\n",
       "      <td>Manchester City</td>\n",
       "    </tr>\n",
       "  </tbody>\n",
       "</table>\n",
       "<p>5 rows × 28 columns</p>\n",
       "</div>"
      ],
      "text/plain": [
       "   Unnamed: 0        date   time            comp        round  day venue  \\\n",
       "0           1  2021-08-15  16:30  Premier League  Matchweek 1  Sun  Away   \n",
       "1           2  2021-08-21  15:00  Premier League  Matchweek 2  Sat  Home   \n",
       "2           3  2021-08-28  12:30  Premier League  Matchweek 3  Sat  Home   \n",
       "3           4  2021-09-11  15:00  Premier League  Matchweek 4  Sat  Away   \n",
       "4           6  2021-09-18  15:00  Premier League  Matchweek 5  Sat  Home   \n",
       "\n",
       "  result   gf   ga  ...  match report  notes    sh   sot  dist   fk   pk  \\\n",
       "0      L  0.0  1.0  ...  Match Report    NaN  18.0   4.0  16.9  1.0  0.0   \n",
       "1      W  5.0  0.0  ...  Match Report    NaN  16.0   4.0  17.3  1.0  0.0   \n",
       "2      W  5.0  0.0  ...  Match Report    NaN  25.0  10.0  14.3  0.0  0.0   \n",
       "3      W  1.0  0.0  ...  Match Report    NaN  25.0   8.0  14.0  0.0  0.0   \n",
       "4      D  0.0  0.0  ...  Match Report    NaN  16.0   1.0  15.7  1.0  0.0   \n",
       "\n",
       "  pkatt season             team  \n",
       "0   0.0   2022  Manchester City  \n",
       "1   0.0   2022  Manchester City  \n",
       "2   0.0   2022  Manchester City  \n",
       "3   0.0   2022  Manchester City  \n",
       "4   0.0   2022  Manchester City  \n",
       "\n",
       "[5 rows x 28 columns]"
      ]
     },
     "execution_count": 2,
     "metadata": {},
     "output_type": "execute_result"
    }
   ],
   "source": [
    "# Load the data set in the Matches variable and print the first 5 rows\n",
    "matches = pd.read_csv(\"/kaggle/input/premierleague/matches.csv\")\n",
    "matches.head()"
   ]
  },
  {
   "cell_type": "markdown",
   "id": "9826ee32",
   "metadata": {
    "papermill": {
     "duration": 0.007029,
     "end_time": "2023-06-14T07:56:09.586707",
     "exception": false,
     "start_time": "2023-06-14T07:56:09.579678",
     "status": "completed"
    },
    "tags": []
   },
   "source": [
    "**Understand better the shape of the DataSet**\n",
    "\n",
    "After taking a first look at the DataSet we can take a look at the shape of it, which means how many column and rows the DataSet actually have, in this case we start working on the DataSet when the overall shape of it it's going to be 1389 rows an 28 columns"
   ]
  },
  {
   "cell_type": "code",
   "execution_count": 3,
   "id": "5f469d58",
   "metadata": {
    "execution": {
     "iopub.execute_input": "2023-06-14T07:56:09.604017Z",
     "iopub.status.busy": "2023-06-14T07:56:09.603048Z",
     "iopub.status.idle": "2023-06-14T07:56:09.609013Z",
     "shell.execute_reply": "2023-06-14T07:56:09.608271Z"
    },
    "papermill": {
     "duration": 0.016435,
     "end_time": "2023-06-14T07:56:09.611099",
     "exception": false,
     "start_time": "2023-06-14T07:56:09.594664",
     "status": "completed"
    },
    "tags": []
   },
   "outputs": [
    {
     "data": {
      "text/plain": [
       "(1389, 28)"
      ]
     },
     "execution_count": 3,
     "metadata": {},
     "output_type": "execute_result"
    }
   ],
   "source": [
    "# Shows how many columns and row are in the dataset\n",
    "matches.shape"
   ]
  },
  {
   "cell_type": "markdown",
   "id": "b5fb2c39",
   "metadata": {
    "papermill": {
     "duration": 0.007097,
     "end_time": "2023-06-14T07:56:09.625894",
     "exception": false,
     "start_time": "2023-06-14T07:56:09.618797",
     "status": "completed"
    },
    "tags": []
   },
   "source": [
    "**Fixing the DataTypes**\n",
    "\n",
    "For most of machine algorithm to work, they must work with integers DataTyoe, and the Random Forest also need. So we have to convert some of the DataType from object into integer, or into some kind of integers. First of all we have to check what DataType we have in our DataSet, then we can choose the Data we want to work with, and if they are not integers already we have to convert it."
   ]
  },
  {
   "cell_type": "code",
   "execution_count": 4,
   "id": "defd65cc",
   "metadata": {
    "execution": {
     "iopub.execute_input": "2023-06-14T07:56:09.642916Z",
     "iopub.status.busy": "2023-06-14T07:56:09.642163Z",
     "iopub.status.idle": "2023-06-14T07:56:09.649601Z",
     "shell.execute_reply": "2023-06-14T07:56:09.648764Z"
    },
    "papermill": {
     "duration": 0.018246,
     "end_time": "2023-06-14T07:56:09.651621",
     "exception": false,
     "start_time": "2023-06-14T07:56:09.633375",
     "status": "completed"
    },
    "tags": []
   },
   "outputs": [
    {
     "data": {
      "text/plain": [
       "Unnamed: 0        int64\n",
       "date             object\n",
       "time             object\n",
       "comp             object\n",
       "round            object\n",
       "day              object\n",
       "venue            object\n",
       "result           object\n",
       "gf              float64\n",
       "ga              float64\n",
       "opponent         object\n",
       "xg              float64\n",
       "xga             float64\n",
       "poss            float64\n",
       "attendance      float64\n",
       "captain          object\n",
       "formation        object\n",
       "referee          object\n",
       "match report     object\n",
       "notes           float64\n",
       "sh              float64\n",
       "sot             float64\n",
       "dist            float64\n",
       "fk              float64\n",
       "pk              float64\n",
       "pkatt           float64\n",
       "season            int64\n",
       "team             object\n",
       "dtype: object"
      ]
     },
     "execution_count": 4,
     "metadata": {},
     "output_type": "execute_result"
    }
   ],
   "source": [
    "# Check what DataType we have in our DataSet\n",
    "matches.dtypes"
   ]
  },
  {
   "cell_type": "markdown",
   "id": "fae039e0",
   "metadata": {
    "papermill": {
     "duration": 0.00717,
     "end_time": "2023-06-14T07:56:09.666540",
     "exception": false,
     "start_time": "2023-06-14T07:56:09.659370",
     "status": "completed"
    },
    "tags": []
   },
   "source": [
    "**Converting the Date type**\n",
    "\n",
    "Here I decided to only convert the Date column, but in order to increase the accuracy, in the future more columns may be converted and used in teh algorithm"
   ]
  },
  {
   "cell_type": "code",
   "execution_count": 5,
   "id": "97c3ee42",
   "metadata": {
    "execution": {
     "iopub.execute_input": "2023-06-14T07:56:09.683870Z",
     "iopub.status.busy": "2023-06-14T07:56:09.683186Z",
     "iopub.status.idle": "2023-06-14T07:56:09.698133Z",
     "shell.execute_reply": "2023-06-14T07:56:09.697114Z"
    },
    "papermill": {
     "duration": 0.026432,
     "end_time": "2023-06-14T07:56:09.700414",
     "exception": false,
     "start_time": "2023-06-14T07:56:09.673982",
     "status": "completed"
    },
    "tags": []
   },
   "outputs": [
    {
     "data": {
      "text/plain": [
       "Unnamed: 0               int64\n",
       "date            datetime64[ns]\n",
       "time                    object\n",
       "comp                    object\n",
       "round                   object\n",
       "day                     object\n",
       "venue                   object\n",
       "result                  object\n",
       "gf                     float64\n",
       "ga                     float64\n",
       "opponent                object\n",
       "xg                     float64\n",
       "xga                    float64\n",
       "poss                   float64\n",
       "attendance             float64\n",
       "captain                 object\n",
       "formation               object\n",
       "referee                 object\n",
       "match report            object\n",
       "notes                  float64\n",
       "sh                     float64\n",
       "sot                    float64\n",
       "dist                   float64\n",
       "fk                     float64\n",
       "pk                     float64\n",
       "pkatt                  float64\n",
       "season                   int64\n",
       "team                    object\n",
       "dtype: object"
      ]
     },
     "execution_count": 5,
     "metadata": {},
     "output_type": "execute_result"
    }
   ],
   "source": [
    "# Replace the column date of type \" Object \" with the new column with the same data of type datetime64\n",
    "matches[\"date\"] = pd.to_datetime(matches[\"date\"])\n",
    "matches.dtypes"
   ]
  },
  {
   "cell_type": "markdown",
   "id": "3c49a083",
   "metadata": {
    "papermill": {
     "duration": 0.007385,
     "end_time": "2023-06-14T07:56:09.715503",
     "exception": false,
     "start_time": "2023-06-14T07:56:09.708118",
     "status": "completed"
    },
    "tags": []
   },
   "source": [
    "**Creating the Predictors**\n",
    "\n",
    "In the Random Forest algorithm, predictors, also known as features or independent variables, are the variables used to make predictions. These predictors are the characteristics or attributes of the data that are input into the algorithm to train the model and subsequently used to make predictions on new, unseen data.\n",
    "\n",
    "In the context of predicting Premier League football matches, our predictors will include various features related to the result, opponents, time and day of the week. In order to increase the accuracy these predictors might include team statistics (e.g., previous match results, goal difference, number of goals scored), player performance metrics (e.g., goals, assists, yellow cards), historical data (e.g., head-to-head records, past performance in similar scenarios), and various other factors that might influence the outcome of a match.\n",
    "\n",
    "**How do we use the Predictors  ?**\n",
    "\n",
    "Random Forest is an ensemble learning algorithm that combines the predictions of multiple decision trees. Each decision tree in the Random Forest is built using a different subset of the available predictors. This process is known as \"feature bagging\" or \"feature sampling.\" By considering different subsets of predictors for each tree, the Random Forest algorithm reduces the correlation between individual trees and ensures a diverse set of predictions."
   ]
  },
  {
   "cell_type": "code",
   "execution_count": 6,
   "id": "50772624",
   "metadata": {
    "execution": {
     "iopub.execute_input": "2023-06-14T07:56:09.732990Z",
     "iopub.status.busy": "2023-06-14T07:56:09.732275Z",
     "iopub.status.idle": "2023-06-14T07:56:09.749944Z",
     "shell.execute_reply": "2023-06-14T07:56:09.748718Z"
    },
    "papermill": {
     "duration": 0.029312,
     "end_time": "2023-06-14T07:56:09.752481",
     "exception": false,
     "start_time": "2023-06-14T07:56:09.723169",
     "status": "completed"
    },
    "tags": []
   },
   "outputs": [],
   "source": [
    "# Create a new column representing the Home or Away value\n",
    "matches[\"venue_code\"] = matches[\"venue\"].astype(\"category\").cat.codes\n",
    "\n",
    "# Create a new column representing a code for each opponent\n",
    "matches[\"opp_code\"] = matches[\"opponent\"].astype(\"category\").cat.codes\n",
    "\n",
    "# Create a new column representing the time as an integer value\n",
    "matches[\"hour\"] = matches[\"time\"].str.replace(\":.+\", \"\", regex=True).astype(\"int\")\n",
    "\n",
    "# Create a new column representing the code for each day of the week\n",
    "matches[\"day_code\"] = matches[\"date\"].dt.dayofweek\n",
    "\n",
    "# Create a new column representing if the team won the game with a 1 or if it didn't with a 0\n",
    "matches[\"target\"] = (matches[\"result\"] == \"W\").astype(\"int\")"
   ]
  },
  {
   "cell_type": "code",
   "execution_count": 7,
   "id": "0a6daeb4",
   "metadata": {
    "execution": {
     "iopub.execute_input": "2023-06-14T07:56:09.769786Z",
     "iopub.status.busy": "2023-06-14T07:56:09.769388Z",
     "iopub.status.idle": "2023-06-14T07:56:09.801548Z",
     "shell.execute_reply": "2023-06-14T07:56:09.800498Z"
    },
    "papermill": {
     "duration": 0.043216,
     "end_time": "2023-06-14T07:56:09.803690",
     "exception": false,
     "start_time": "2023-06-14T07:56:09.760474",
     "status": "completed"
    },
    "tags": []
   },
   "outputs": [
    {
     "data": {
      "text/html": [
       "<div>\n",
       "<style scoped>\n",
       "    .dataframe tbody tr th:only-of-type {\n",
       "        vertical-align: middle;\n",
       "    }\n",
       "\n",
       "    .dataframe tbody tr th {\n",
       "        vertical-align: top;\n",
       "    }\n",
       "\n",
       "    .dataframe thead th {\n",
       "        text-align: right;\n",
       "    }\n",
       "</style>\n",
       "<table border=\"1\" class=\"dataframe\">\n",
       "  <thead>\n",
       "    <tr style=\"text-align: right;\">\n",
       "      <th></th>\n",
       "      <th>Unnamed: 0</th>\n",
       "      <th>date</th>\n",
       "      <th>time</th>\n",
       "      <th>comp</th>\n",
       "      <th>round</th>\n",
       "      <th>day</th>\n",
       "      <th>venue</th>\n",
       "      <th>result</th>\n",
       "      <th>gf</th>\n",
       "      <th>ga</th>\n",
       "      <th>...</th>\n",
       "      <th>fk</th>\n",
       "      <th>pk</th>\n",
       "      <th>pkatt</th>\n",
       "      <th>season</th>\n",
       "      <th>team</th>\n",
       "      <th>venue_code</th>\n",
       "      <th>opp_code</th>\n",
       "      <th>hour</th>\n",
       "      <th>day_code</th>\n",
       "      <th>target</th>\n",
       "    </tr>\n",
       "  </thead>\n",
       "  <tbody>\n",
       "    <tr>\n",
       "      <th>0</th>\n",
       "      <td>1</td>\n",
       "      <td>2021-08-15</td>\n",
       "      <td>16:30</td>\n",
       "      <td>Premier League</td>\n",
       "      <td>Matchweek 1</td>\n",
       "      <td>Sun</td>\n",
       "      <td>Away</td>\n",
       "      <td>L</td>\n",
       "      <td>0.0</td>\n",
       "      <td>1.0</td>\n",
       "      <td>...</td>\n",
       "      <td>1.0</td>\n",
       "      <td>0.0</td>\n",
       "      <td>0.0</td>\n",
       "      <td>2022</td>\n",
       "      <td>Manchester City</td>\n",
       "      <td>0</td>\n",
       "      <td>18</td>\n",
       "      <td>16</td>\n",
       "      <td>6</td>\n",
       "      <td>0</td>\n",
       "    </tr>\n",
       "    <tr>\n",
       "      <th>1</th>\n",
       "      <td>2</td>\n",
       "      <td>2021-08-21</td>\n",
       "      <td>15:00</td>\n",
       "      <td>Premier League</td>\n",
       "      <td>Matchweek 2</td>\n",
       "      <td>Sat</td>\n",
       "      <td>Home</td>\n",
       "      <td>W</td>\n",
       "      <td>5.0</td>\n",
       "      <td>0.0</td>\n",
       "      <td>...</td>\n",
       "      <td>1.0</td>\n",
       "      <td>0.0</td>\n",
       "      <td>0.0</td>\n",
       "      <td>2022</td>\n",
       "      <td>Manchester City</td>\n",
       "      <td>1</td>\n",
       "      <td>15</td>\n",
       "      <td>15</td>\n",
       "      <td>5</td>\n",
       "      <td>1</td>\n",
       "    </tr>\n",
       "    <tr>\n",
       "      <th>2</th>\n",
       "      <td>3</td>\n",
       "      <td>2021-08-28</td>\n",
       "      <td>12:30</td>\n",
       "      <td>Premier League</td>\n",
       "      <td>Matchweek 3</td>\n",
       "      <td>Sat</td>\n",
       "      <td>Home</td>\n",
       "      <td>W</td>\n",
       "      <td>5.0</td>\n",
       "      <td>0.0</td>\n",
       "      <td>...</td>\n",
       "      <td>0.0</td>\n",
       "      <td>0.0</td>\n",
       "      <td>0.0</td>\n",
       "      <td>2022</td>\n",
       "      <td>Manchester City</td>\n",
       "      <td>1</td>\n",
       "      <td>0</td>\n",
       "      <td>12</td>\n",
       "      <td>5</td>\n",
       "      <td>1</td>\n",
       "    </tr>\n",
       "    <tr>\n",
       "      <th>3</th>\n",
       "      <td>4</td>\n",
       "      <td>2021-09-11</td>\n",
       "      <td>15:00</td>\n",
       "      <td>Premier League</td>\n",
       "      <td>Matchweek 4</td>\n",
       "      <td>Sat</td>\n",
       "      <td>Away</td>\n",
       "      <td>W</td>\n",
       "      <td>1.0</td>\n",
       "      <td>0.0</td>\n",
       "      <td>...</td>\n",
       "      <td>0.0</td>\n",
       "      <td>0.0</td>\n",
       "      <td>0.0</td>\n",
       "      <td>2022</td>\n",
       "      <td>Manchester City</td>\n",
       "      <td>0</td>\n",
       "      <td>10</td>\n",
       "      <td>15</td>\n",
       "      <td>5</td>\n",
       "      <td>1</td>\n",
       "    </tr>\n",
       "    <tr>\n",
       "      <th>4</th>\n",
       "      <td>6</td>\n",
       "      <td>2021-09-18</td>\n",
       "      <td>15:00</td>\n",
       "      <td>Premier League</td>\n",
       "      <td>Matchweek 5</td>\n",
       "      <td>Sat</td>\n",
       "      <td>Home</td>\n",
       "      <td>D</td>\n",
       "      <td>0.0</td>\n",
       "      <td>0.0</td>\n",
       "      <td>...</td>\n",
       "      <td>1.0</td>\n",
       "      <td>0.0</td>\n",
       "      <td>0.0</td>\n",
       "      <td>2022</td>\n",
       "      <td>Manchester City</td>\n",
       "      <td>1</td>\n",
       "      <td>17</td>\n",
       "      <td>15</td>\n",
       "      <td>5</td>\n",
       "      <td>0</td>\n",
       "    </tr>\n",
       "    <tr>\n",
       "      <th>...</th>\n",
       "      <td>...</td>\n",
       "      <td>...</td>\n",
       "      <td>...</td>\n",
       "      <td>...</td>\n",
       "      <td>...</td>\n",
       "      <td>...</td>\n",
       "      <td>...</td>\n",
       "      <td>...</td>\n",
       "      <td>...</td>\n",
       "      <td>...</td>\n",
       "      <td>...</td>\n",
       "      <td>...</td>\n",
       "      <td>...</td>\n",
       "      <td>...</td>\n",
       "      <td>...</td>\n",
       "      <td>...</td>\n",
       "      <td>...</td>\n",
       "      <td>...</td>\n",
       "      <td>...</td>\n",
       "      <td>...</td>\n",
       "      <td>...</td>\n",
       "    </tr>\n",
       "    <tr>\n",
       "      <th>1384</th>\n",
       "      <td>38</td>\n",
       "      <td>2021-05-02</td>\n",
       "      <td>19:15</td>\n",
       "      <td>Premier League</td>\n",
       "      <td>Matchweek 34</td>\n",
       "      <td>Sun</td>\n",
       "      <td>Away</td>\n",
       "      <td>L</td>\n",
       "      <td>0.0</td>\n",
       "      <td>4.0</td>\n",
       "      <td>...</td>\n",
       "      <td>0.0</td>\n",
       "      <td>0.0</td>\n",
       "      <td>0.0</td>\n",
       "      <td>2021</td>\n",
       "      <td>Sheffield United</td>\n",
       "      <td>0</td>\n",
       "      <td>18</td>\n",
       "      <td>19</td>\n",
       "      <td>6</td>\n",
       "      <td>0</td>\n",
       "    </tr>\n",
       "    <tr>\n",
       "      <th>1385</th>\n",
       "      <td>39</td>\n",
       "      <td>2021-05-08</td>\n",
       "      <td>15:00</td>\n",
       "      <td>Premier League</td>\n",
       "      <td>Matchweek 35</td>\n",
       "      <td>Sat</td>\n",
       "      <td>Home</td>\n",
       "      <td>L</td>\n",
       "      <td>0.0</td>\n",
       "      <td>2.0</td>\n",
       "      <td>...</td>\n",
       "      <td>1.0</td>\n",
       "      <td>0.0</td>\n",
       "      <td>0.0</td>\n",
       "      <td>2021</td>\n",
       "      <td>Sheffield United</td>\n",
       "      <td>1</td>\n",
       "      <td>6</td>\n",
       "      <td>15</td>\n",
       "      <td>5</td>\n",
       "      <td>0</td>\n",
       "    </tr>\n",
       "    <tr>\n",
       "      <th>1386</th>\n",
       "      <td>40</td>\n",
       "      <td>2021-05-16</td>\n",
       "      <td>19:00</td>\n",
       "      <td>Premier League</td>\n",
       "      <td>Matchweek 36</td>\n",
       "      <td>Sun</td>\n",
       "      <td>Away</td>\n",
       "      <td>W</td>\n",
       "      <td>1.0</td>\n",
       "      <td>0.0</td>\n",
       "      <td>...</td>\n",
       "      <td>0.0</td>\n",
       "      <td>0.0</td>\n",
       "      <td>0.0</td>\n",
       "      <td>2021</td>\n",
       "      <td>Sheffield United</td>\n",
       "      <td>0</td>\n",
       "      <td>7</td>\n",
       "      <td>19</td>\n",
       "      <td>6</td>\n",
       "      <td>1</td>\n",
       "    </tr>\n",
       "    <tr>\n",
       "      <th>1387</th>\n",
       "      <td>41</td>\n",
       "      <td>2021-05-19</td>\n",
       "      <td>18:00</td>\n",
       "      <td>Premier League</td>\n",
       "      <td>Matchweek 37</td>\n",
       "      <td>Wed</td>\n",
       "      <td>Away</td>\n",
       "      <td>L</td>\n",
       "      <td>0.0</td>\n",
       "      <td>1.0</td>\n",
       "      <td>...</td>\n",
       "      <td>1.0</td>\n",
       "      <td>0.0</td>\n",
       "      <td>0.0</td>\n",
       "      <td>2021</td>\n",
       "      <td>Sheffield United</td>\n",
       "      <td>0</td>\n",
       "      <td>14</td>\n",
       "      <td>18</td>\n",
       "      <td>2</td>\n",
       "      <td>0</td>\n",
       "    </tr>\n",
       "    <tr>\n",
       "      <th>1388</th>\n",
       "      <td>42</td>\n",
       "      <td>2021-05-23</td>\n",
       "      <td>16:00</td>\n",
       "      <td>Premier League</td>\n",
       "      <td>Matchweek 38</td>\n",
       "      <td>Sun</td>\n",
       "      <td>Home</td>\n",
       "      <td>W</td>\n",
       "      <td>1.0</td>\n",
       "      <td>0.0</td>\n",
       "      <td>...</td>\n",
       "      <td>0.0</td>\n",
       "      <td>0.0</td>\n",
       "      <td>0.0</td>\n",
       "      <td>2021</td>\n",
       "      <td>Sheffield United</td>\n",
       "      <td>1</td>\n",
       "      <td>4</td>\n",
       "      <td>16</td>\n",
       "      <td>6</td>\n",
       "      <td>1</td>\n",
       "    </tr>\n",
       "  </tbody>\n",
       "</table>\n",
       "<p>1389 rows × 33 columns</p>\n",
       "</div>"
      ],
      "text/plain": [
       "      Unnamed: 0       date   time            comp         round  day venue  \\\n",
       "0              1 2021-08-15  16:30  Premier League   Matchweek 1  Sun  Away   \n",
       "1              2 2021-08-21  15:00  Premier League   Matchweek 2  Sat  Home   \n",
       "2              3 2021-08-28  12:30  Premier League   Matchweek 3  Sat  Home   \n",
       "3              4 2021-09-11  15:00  Premier League   Matchweek 4  Sat  Away   \n",
       "4              6 2021-09-18  15:00  Premier League   Matchweek 5  Sat  Home   \n",
       "...          ...        ...    ...             ...           ...  ...   ...   \n",
       "1384          38 2021-05-02  19:15  Premier League  Matchweek 34  Sun  Away   \n",
       "1385          39 2021-05-08  15:00  Premier League  Matchweek 35  Sat  Home   \n",
       "1386          40 2021-05-16  19:00  Premier League  Matchweek 36  Sun  Away   \n",
       "1387          41 2021-05-19  18:00  Premier League  Matchweek 37  Wed  Away   \n",
       "1388          42 2021-05-23  16:00  Premier League  Matchweek 38  Sun  Home   \n",
       "\n",
       "     result   gf   ga  ...   fk   pk  pkatt  season              team  \\\n",
       "0         L  0.0  1.0  ...  1.0  0.0    0.0    2022   Manchester City   \n",
       "1         W  5.0  0.0  ...  1.0  0.0    0.0    2022   Manchester City   \n",
       "2         W  5.0  0.0  ...  0.0  0.0    0.0    2022   Manchester City   \n",
       "3         W  1.0  0.0  ...  0.0  0.0    0.0    2022   Manchester City   \n",
       "4         D  0.0  0.0  ...  1.0  0.0    0.0    2022   Manchester City   \n",
       "...     ...  ...  ...  ...  ...  ...    ...     ...               ...   \n",
       "1384      L  0.0  4.0  ...  0.0  0.0    0.0    2021  Sheffield United   \n",
       "1385      L  0.0  2.0  ...  1.0  0.0    0.0    2021  Sheffield United   \n",
       "1386      W  1.0  0.0  ...  0.0  0.0    0.0    2021  Sheffield United   \n",
       "1387      L  0.0  1.0  ...  1.0  0.0    0.0    2021  Sheffield United   \n",
       "1388      W  1.0  0.0  ...  0.0  0.0    0.0    2021  Sheffield United   \n",
       "\n",
       "     venue_code opp_code hour day_code  target  \n",
       "0             0       18   16        6       0  \n",
       "1             1       15   15        5       1  \n",
       "2             1        0   12        5       1  \n",
       "3             0       10   15        5       1  \n",
       "4             1       17   15        5       0  \n",
       "...         ...      ...  ...      ...     ...  \n",
       "1384          0       18   19        6       0  \n",
       "1385          1        6   15        5       0  \n",
       "1386          0        7   19        6       1  \n",
       "1387          0       14   18        2       0  \n",
       "1388          1        4   16        6       1  \n",
       "\n",
       "[1389 rows x 33 columns]"
      ]
     },
     "execution_count": 7,
     "metadata": {},
     "output_type": "execute_result"
    }
   ],
   "source": [
    "matches"
   ]
  },
  {
   "cell_type": "markdown",
   "id": "97337757",
   "metadata": {
    "papermill": {
     "duration": 0.007765,
     "end_time": "2023-06-14T07:56:09.819721",
     "exception": false,
     "start_time": "2023-06-14T07:56:09.811956",
     "status": "completed"
    },
    "tags": []
   },
   "source": [
    "**Training the model**\n",
    "\n",
    "As soon as our basic predictors are created and added to the DataSet, we are able to Train our model. Training is one of the most, if not the most important part of our machine learnig algorithm, in my case, I decided to use all the data from the year 2021 as Training Data, and all the Data after the 2022 as testing data.\n",
    "\n",
    "**Random Forest algorithm**\n",
    "\n",
    "During the training phase of the Random Forest algorithm, each decision tree is trained to predict the target variable (in this case, the outcome of the Premier League football match) based on the subset of predictors assigned to it. The algorithm determines the importance of each predictor by measuring how much it contributes to reducing the impurity or increasing the information gain in the decision tree.\n",
    "\n",
    "When making predictions with the trained Random Forest model, the algorithm combines the predictions of all the decision trees by averaging (for regression problems) or voting (for classification problems) to generate the final prediction. Each decision tree contributes its own prediction based on the assigned subset of predictors, and the final prediction is determined by the collective wisdom of the entire ensemble.\n",
    "\n",
    "In summary, predictors in the Random Forest algorithm are the input variables that capture the relevant information and characteristics of the data used to train the model. These predictors are used by individual decision trees within the ensemble to make predictions, and the algorithm combines the predictions of all the decision trees to produce the final prediction."
   ]
  },
  {
   "cell_type": "code",
   "execution_count": 8,
   "id": "44e60e1d",
   "metadata": {
    "execution": {
     "iopub.execute_input": "2023-06-14T07:56:09.837850Z",
     "iopub.status.busy": "2023-06-14T07:56:09.837435Z",
     "iopub.status.idle": "2023-06-14T07:56:12.883542Z",
     "shell.execute_reply": "2023-06-14T07:56:12.882291Z"
    },
    "papermill": {
     "duration": 3.058366,
     "end_time": "2023-06-14T07:56:12.886375",
     "exception": false,
     "start_time": "2023-06-14T07:56:09.828009",
     "status": "completed"
    },
    "tags": []
   },
   "outputs": [
    {
     "data": {
      "text/html": [
       "<style>#sk-container-id-1 {color: black;background-color: white;}#sk-container-id-1 pre{padding: 0;}#sk-container-id-1 div.sk-toggleable {background-color: white;}#sk-container-id-1 label.sk-toggleable__label {cursor: pointer;display: block;width: 100%;margin-bottom: 0;padding: 0.3em;box-sizing: border-box;text-align: center;}#sk-container-id-1 label.sk-toggleable__label-arrow:before {content: \"▸\";float: left;margin-right: 0.25em;color: #696969;}#sk-container-id-1 label.sk-toggleable__label-arrow:hover:before {color: black;}#sk-container-id-1 div.sk-estimator:hover label.sk-toggleable__label-arrow:before {color: black;}#sk-container-id-1 div.sk-toggleable__content {max-height: 0;max-width: 0;overflow: hidden;text-align: left;background-color: #f0f8ff;}#sk-container-id-1 div.sk-toggleable__content pre {margin: 0.2em;color: black;border-radius: 0.25em;background-color: #f0f8ff;}#sk-container-id-1 input.sk-toggleable__control:checked~div.sk-toggleable__content {max-height: 200px;max-width: 100%;overflow: auto;}#sk-container-id-1 input.sk-toggleable__control:checked~label.sk-toggleable__label-arrow:before {content: \"▾\";}#sk-container-id-1 div.sk-estimator input.sk-toggleable__control:checked~label.sk-toggleable__label {background-color: #d4ebff;}#sk-container-id-1 div.sk-label input.sk-toggleable__control:checked~label.sk-toggleable__label {background-color: #d4ebff;}#sk-container-id-1 input.sk-hidden--visually {border: 0;clip: rect(1px 1px 1px 1px);clip: rect(1px, 1px, 1px, 1px);height: 1px;margin: -1px;overflow: hidden;padding: 0;position: absolute;width: 1px;}#sk-container-id-1 div.sk-estimator {font-family: monospace;background-color: #f0f8ff;border: 1px dotted black;border-radius: 0.25em;box-sizing: border-box;margin-bottom: 0.5em;}#sk-container-id-1 div.sk-estimator:hover {background-color: #d4ebff;}#sk-container-id-1 div.sk-parallel-item::after {content: \"\";width: 100%;border-bottom: 1px solid gray;flex-grow: 1;}#sk-container-id-1 div.sk-label:hover label.sk-toggleable__label {background-color: #d4ebff;}#sk-container-id-1 div.sk-serial::before {content: \"\";position: absolute;border-left: 1px solid gray;box-sizing: border-box;top: 0;bottom: 0;left: 50%;z-index: 0;}#sk-container-id-1 div.sk-serial {display: flex;flex-direction: column;align-items: center;background-color: white;padding-right: 0.2em;padding-left: 0.2em;position: relative;}#sk-container-id-1 div.sk-item {position: relative;z-index: 1;}#sk-container-id-1 div.sk-parallel {display: flex;align-items: stretch;justify-content: center;background-color: white;position: relative;}#sk-container-id-1 div.sk-item::before, #sk-container-id-1 div.sk-parallel-item::before {content: \"\";position: absolute;border-left: 1px solid gray;box-sizing: border-box;top: 0;bottom: 0;left: 50%;z-index: -1;}#sk-container-id-1 div.sk-parallel-item {display: flex;flex-direction: column;z-index: 1;position: relative;background-color: white;}#sk-container-id-1 div.sk-parallel-item:first-child::after {align-self: flex-end;width: 50%;}#sk-container-id-1 div.sk-parallel-item:last-child::after {align-self: flex-start;width: 50%;}#sk-container-id-1 div.sk-parallel-item:only-child::after {width: 0;}#sk-container-id-1 div.sk-dashed-wrapped {border: 1px dashed gray;margin: 0 0.4em 0.5em 0.4em;box-sizing: border-box;padding-bottom: 0.4em;background-color: white;}#sk-container-id-1 div.sk-label label {font-family: monospace;font-weight: bold;display: inline-block;line-height: 1.2em;}#sk-container-id-1 div.sk-label-container {text-align: center;}#sk-container-id-1 div.sk-container {/* jupyter's `normalize.less` sets `[hidden] { display: none; }` but bootstrap.min.css set `[hidden] { display: none !important; }` so we also need the `!important` here to be able to override the default hidden behavior on the sphinx rendered scikit-learn.org. See: https://github.com/scikit-learn/scikit-learn/issues/21755 */display: inline-block !important;position: relative;}#sk-container-id-1 div.sk-text-repr-fallback {display: none;}</style><div id=\"sk-container-id-1\" class=\"sk-top-container\"><div class=\"sk-text-repr-fallback\"><pre>RandomForestClassifier(min_samples_split=10, n_estimators=500, random_state=1)</pre><b>In a Jupyter environment, please rerun this cell to show the HTML representation or trust the notebook. <br />On GitHub, the HTML representation is unable to render, please try loading this page with nbviewer.org.</b></div><div class=\"sk-container\" hidden><div class=\"sk-item\"><div class=\"sk-estimator sk-toggleable\"><input class=\"sk-toggleable__control sk-hidden--visually\" id=\"sk-estimator-id-1\" type=\"checkbox\" checked><label for=\"sk-estimator-id-1\" class=\"sk-toggleable__label sk-toggleable__label-arrow\">RandomForestClassifier</label><div class=\"sk-toggleable__content\"><pre>RandomForestClassifier(min_samples_split=10, n_estimators=500, random_state=1)</pre></div></div></div></div></div>"
      ],
      "text/plain": [
       "RandomForestClassifier(min_samples_split=10, n_estimators=500, random_state=1)"
      ]
     },
     "execution_count": 8,
     "metadata": {},
     "output_type": "execute_result"
    }
   ],
   "source": [
    "# Training the machine learning model \n",
    "from sklearn.ensemble import RandomForestClassifier\n",
    "\n",
    "rf = RandomForestClassifier(n_estimators = 500, min_samples_split = 10, random_state = 1)\n",
    "\n",
    "# Divide the dataset into train and test sections\n",
    "train = matches[matches[\"date\"] < '2022-01-01']\n",
    "test = matches[matches[\"date\"] > '2022-01-01']\n",
    "\n",
    "# A list of all the prdictors \n",
    "predictors = [\"venue_code\", \"opp_code\", \"hour\", \"day_code\"]\n",
    "\n",
    "# Fit the random forest model, fitting the predictors and trying to predict the target\n",
    "rf.fit(train[predictors], train[\"target\"])"
   ]
  },
  {
   "cell_type": "markdown",
   "id": "8ce208fd",
   "metadata": {
    "papermill": {
     "duration": 0.008422,
     "end_time": "2023-06-14T07:56:12.903238",
     "exception": false,
     "start_time": "2023-06-14T07:56:12.894816",
     "status": "completed"
    },
    "tags": []
   },
   "source": [
    "**Generating the first prediction**\n",
    "\n",
    "After succeffully train the model, we are ready to generate some prediction based the previous results. \n",
    "As soon as we have our first prediction we can then calculate the accuracy of the model."
   ]
  },
  {
   "cell_type": "code",
   "execution_count": 9,
   "id": "6571e753",
   "metadata": {
    "execution": {
     "iopub.execute_input": "2023-06-14T07:56:12.922007Z",
     "iopub.status.busy": "2023-06-14T07:56:12.921594Z",
     "iopub.status.idle": "2023-06-14T07:56:13.003992Z",
     "shell.execute_reply": "2023-06-14T07:56:13.002815Z"
    },
    "papermill": {
     "duration": 0.094987,
     "end_time": "2023-06-14T07:56:13.006560",
     "exception": false,
     "start_time": "2023-06-14T07:56:12.911573",
     "status": "completed"
    },
    "tags": []
   },
   "outputs": [],
   "source": [
    "# Generate prediction, passing the test data and the predictors\n",
    "preds = rf.predict(test[predictors])\n",
    "\n",
    "# Need to describe the accuracy\n",
    "from sklearn.metrics import accuracy_score\n",
    "\n",
    "# Calculate the accuracy passing the test data, with the predictors and the prediction\n",
    "acc = accuracy_score(test[\"target\"], preds)"
   ]
  },
  {
   "cell_type": "markdown",
   "id": "c4b5d245",
   "metadata": {
    "papermill": {
     "duration": 0.008014,
     "end_time": "2023-06-14T07:56:13.023098",
     "exception": false,
     "start_time": "2023-06-14T07:56:13.015084",
     "status": "completed"
    },
    "tags": []
   },
   "source": [
    "**Accuracy**\n",
    "\n",
    "Our first acccuracy is actually pretty good, but we have to remember that this accuracy isn't just the winning case accuracy, but it's going to reflect also the loose and draw case. We will have to chance the method of calculation for the accuracy"
   ]
  },
  {
   "cell_type": "code",
   "execution_count": 10,
   "id": "e9b2cc70",
   "metadata": {
    "execution": {
     "iopub.execute_input": "2023-06-14T07:56:13.042106Z",
     "iopub.status.busy": "2023-06-14T07:56:13.041450Z",
     "iopub.status.idle": "2023-06-14T07:56:13.047887Z",
     "shell.execute_reply": "2023-06-14T07:56:13.046770Z"
    },
    "papermill": {
     "duration": 0.018363,
     "end_time": "2023-06-14T07:56:13.049905",
     "exception": false,
     "start_time": "2023-06-14T07:56:13.031542",
     "status": "completed"
    },
    "tags": []
   },
   "outputs": [
    {
     "data": {
      "text/plain": [
       "0.6086956521739131"
      ]
     },
     "execution_count": 10,
     "metadata": {},
     "output_type": "execute_result"
    }
   ],
   "source": [
    "acc"
   ]
  },
  {
   "cell_type": "markdown",
   "id": "84574526",
   "metadata": {
    "papermill": {
     "duration": 0.008598,
     "end_time": "2023-06-14T07:56:13.067128",
     "exception": false,
     "start_time": "2023-06-14T07:56:13.058530",
     "status": "completed"
    },
    "tags": []
   },
   "source": [
    "**Combining the DataFrame and shows better results**\n",
    "\n",
    "Now we have calculated and predicted some matches, but we still haven't seen the results, by combining the data of teh actual and the predicted values we can create a new DataFrame and display it, so we will be able to see our first raw predictions."
   ]
  },
  {
   "cell_type": "code",
   "execution_count": 11,
   "id": "1437988a",
   "metadata": {
    "execution": {
     "iopub.execute_input": "2023-06-14T07:56:13.086435Z",
     "iopub.status.busy": "2023-06-14T07:56:13.085616Z",
     "iopub.status.idle": "2023-06-14T07:56:13.120190Z",
     "shell.execute_reply": "2023-06-14T07:56:13.119085Z"
    },
    "papermill": {
     "duration": 0.047159,
     "end_time": "2023-06-14T07:56:13.122907",
     "exception": false,
     "start_time": "2023-06-14T07:56:13.075748",
     "status": "completed"
    },
    "tags": []
   },
   "outputs": [
    {
     "data": {
      "text/html": [
       "<div>\n",
       "<style scoped>\n",
       "    .dataframe tbody tr th:only-of-type {\n",
       "        vertical-align: middle;\n",
       "    }\n",
       "\n",
       "    .dataframe tbody tr th {\n",
       "        vertical-align: top;\n",
       "    }\n",
       "\n",
       "    .dataframe thead th {\n",
       "        text-align: right;\n",
       "    }\n",
       "</style>\n",
       "<table border=\"1\" class=\"dataframe\">\n",
       "  <thead>\n",
       "    <tr style=\"text-align: right;\">\n",
       "      <th>prediction</th>\n",
       "      <th>0</th>\n",
       "      <th>1</th>\n",
       "    </tr>\n",
       "    <tr>\n",
       "      <th>actual</th>\n",
       "      <th></th>\n",
       "      <th></th>\n",
       "    </tr>\n",
       "  </thead>\n",
       "  <tbody>\n",
       "    <tr>\n",
       "      <th>0</th>\n",
       "      <td>142</td>\n",
       "      <td>30</td>\n",
       "    </tr>\n",
       "    <tr>\n",
       "      <th>1</th>\n",
       "      <td>78</td>\n",
       "      <td>26</td>\n",
       "    </tr>\n",
       "  </tbody>\n",
       "</table>\n",
       "</div>"
      ],
      "text/plain": [
       "prediction    0   1\n",
       "actual             \n",
       "0           142  30\n",
       "1            78  26"
      ]
     },
     "execution_count": 11,
     "metadata": {},
     "output_type": "execute_result"
    }
   ],
   "source": [
    "# Create a new DataFrame to combine the actual values and the predicted values \n",
    "combined = pd.DataFrame(dict(actual=test[\"target\"], prediction=preds))\n",
    "\n",
    "# Show a table with the new DataFrame\n",
    "pd.crosstab(index = combined[\"actual\"], columns = combined[\"prediction\"])"
   ]
  },
  {
   "cell_type": "markdown",
   "id": "ae89eca4",
   "metadata": {
    "papermill": {
     "duration": 0.008538,
     "end_time": "2023-06-14T07:56:13.140386",
     "exception": false,
     "start_time": "2023-06-14T07:56:13.131848",
     "status": "completed"
    },
    "tags": []
   },
   "source": [
    "**Revise the accuracy metrics**\n",
    "\n",
    "As we discussed before, we have to revise the accuracy metrics, here we will take in considerations only teh predictions where we predicted a winning case. So therefore, we can see that the accuracy decrease drastically. "
   ]
  },
  {
   "cell_type": "code",
   "execution_count": 12,
   "id": "d5671573",
   "metadata": {
    "execution": {
     "iopub.execute_input": "2023-06-14T07:56:13.159870Z",
     "iopub.status.busy": "2023-06-14T07:56:13.159473Z",
     "iopub.status.idle": "2023-06-14T07:56:13.168065Z",
     "shell.execute_reply": "2023-06-14T07:56:13.167374Z"
    },
    "papermill": {
     "duration": 0.02087,
     "end_time": "2023-06-14T07:56:13.169945",
     "exception": false,
     "start_time": "2023-06-14T07:56:13.149075",
     "status": "completed"
    },
    "tags": []
   },
   "outputs": [
    {
     "data": {
      "text/plain": [
       "0.4642857142857143"
      ]
     },
     "execution_count": 12,
     "metadata": {},
     "output_type": "execute_result"
    }
   ],
   "source": [
    "# Revise the accuracy metrics \n",
    "\n",
    "# Show the accuracy of when the win condition was predicted\n",
    "from sklearn.metrics import precision_score\n",
    "precision_score(test['target'], preds)"
   ]
  },
  {
   "cell_type": "markdown",
   "id": "9e406e31",
   "metadata": {
    "papermill": {
     "duration": 0.008368,
     "end_time": "2023-06-14T07:56:13.187161",
     "exception": false,
     "start_time": "2023-06-14T07:56:13.178793",
     "status": "completed"
    },
    "tags": []
   },
   "source": [
    "**Have a more clear look a the predictions**\n",
    "\n",
    "We can now work again on our new DataFram, the prediction DataFrame. In order to make it easier to read, we can add some information to it by combining other data, such as the Date of the match, both of the team and most important the result."
   ]
  },
  {
   "cell_type": "code",
   "execution_count": 13,
   "id": "022b53e1",
   "metadata": {
    "execution": {
     "iopub.execute_input": "2023-06-14T07:56:13.206944Z",
     "iopub.status.busy": "2023-06-14T07:56:13.206229Z",
     "iopub.status.idle": "2023-06-14T07:56:13.227643Z",
     "shell.execute_reply": "2023-06-14T07:56:13.226521Z"
    },
    "papermill": {
     "duration": 0.033983,
     "end_time": "2023-06-14T07:56:13.229914",
     "exception": false,
     "start_time": "2023-06-14T07:56:13.195931",
     "status": "completed"
    },
    "tags": []
   },
   "outputs": [
    {
     "data": {
      "text/html": [
       "<div>\n",
       "<style scoped>\n",
       "    .dataframe tbody tr th:only-of-type {\n",
       "        vertical-align: middle;\n",
       "    }\n",
       "\n",
       "    .dataframe tbody tr th {\n",
       "        vertical-align: top;\n",
       "    }\n",
       "\n",
       "    .dataframe thead th {\n",
       "        text-align: right;\n",
       "    }\n",
       "</style>\n",
       "<table border=\"1\" class=\"dataframe\">\n",
       "  <thead>\n",
       "    <tr style=\"text-align: right;\">\n",
       "      <th></th>\n",
       "      <th>actual</th>\n",
       "      <th>predicted</th>\n",
       "      <th>date</th>\n",
       "      <th>team</th>\n",
       "      <th>opponent</th>\n",
       "      <th>result</th>\n",
       "    </tr>\n",
       "  </thead>\n",
       "  <tbody>\n",
       "    <tr>\n",
       "      <th>21</th>\n",
       "      <td>1</td>\n",
       "      <td>0</td>\n",
       "      <td>2022-01-15</td>\n",
       "      <td>Manchester City</td>\n",
       "      <td>Chelsea</td>\n",
       "      <td>W</td>\n",
       "    </tr>\n",
       "    <tr>\n",
       "      <th>22</th>\n",
       "      <td>0</td>\n",
       "      <td>1</td>\n",
       "      <td>2022-01-22</td>\n",
       "      <td>Manchester City</td>\n",
       "      <td>Southampton</td>\n",
       "      <td>D</td>\n",
       "    </tr>\n",
       "    <tr>\n",
       "      <th>23</th>\n",
       "      <td>1</td>\n",
       "      <td>0</td>\n",
       "      <td>2022-02-09</td>\n",
       "      <td>Manchester City</td>\n",
       "      <td>Brentford</td>\n",
       "      <td>W</td>\n",
       "    </tr>\n",
       "    <tr>\n",
       "      <th>24</th>\n",
       "      <td>1</td>\n",
       "      <td>1</td>\n",
       "      <td>2022-02-12</td>\n",
       "      <td>Manchester City</td>\n",
       "      <td>Norwich City</td>\n",
       "      <td>W</td>\n",
       "    </tr>\n",
       "    <tr>\n",
       "      <th>25</th>\n",
       "      <td>0</td>\n",
       "      <td>1</td>\n",
       "      <td>2022-02-19</td>\n",
       "      <td>Manchester City</td>\n",
       "      <td>Tottenham</td>\n",
       "      <td>L</td>\n",
       "    </tr>\n",
       "    <tr>\n",
       "      <th>...</th>\n",
       "      <td>...</td>\n",
       "      <td>...</td>\n",
       "      <td>...</td>\n",
       "      <td>...</td>\n",
       "      <td>...</td>\n",
       "      <td>...</td>\n",
       "    </tr>\n",
       "    <tr>\n",
       "      <th>624</th>\n",
       "      <td>0</td>\n",
       "      <td>0</td>\n",
       "      <td>2022-03-13</td>\n",
       "      <td>Norwich City</td>\n",
       "      <td>Leeds United</td>\n",
       "      <td>L</td>\n",
       "    </tr>\n",
       "    <tr>\n",
       "      <th>625</th>\n",
       "      <td>0</td>\n",
       "      <td>0</td>\n",
       "      <td>2022-04-02</td>\n",
       "      <td>Norwich City</td>\n",
       "      <td>Brighton</td>\n",
       "      <td>D</td>\n",
       "    </tr>\n",
       "    <tr>\n",
       "      <th>626</th>\n",
       "      <td>1</td>\n",
       "      <td>1</td>\n",
       "      <td>2022-04-10</td>\n",
       "      <td>Norwich City</td>\n",
       "      <td>Burnley</td>\n",
       "      <td>W</td>\n",
       "    </tr>\n",
       "    <tr>\n",
       "      <th>627</th>\n",
       "      <td>0</td>\n",
       "      <td>0</td>\n",
       "      <td>2022-04-16</td>\n",
       "      <td>Norwich City</td>\n",
       "      <td>Manchester Utd</td>\n",
       "      <td>L</td>\n",
       "    </tr>\n",
       "    <tr>\n",
       "      <th>628</th>\n",
       "      <td>0</td>\n",
       "      <td>1</td>\n",
       "      <td>2022-04-23</td>\n",
       "      <td>Norwich City</td>\n",
       "      <td>Newcastle Utd</td>\n",
       "      <td>L</td>\n",
       "    </tr>\n",
       "  </tbody>\n",
       "</table>\n",
       "<p>276 rows × 6 columns</p>\n",
       "</div>"
      ],
      "text/plain": [
       "     actual  predicted       date             team        opponent result\n",
       "21        1          0 2022-01-15  Manchester City         Chelsea      W\n",
       "22        0          1 2022-01-22  Manchester City     Southampton      D\n",
       "23        1          0 2022-02-09  Manchester City       Brentford      W\n",
       "24        1          1 2022-02-12  Manchester City    Norwich City      W\n",
       "25        0          1 2022-02-19  Manchester City       Tottenham      L\n",
       "..      ...        ...        ...              ...             ...    ...\n",
       "624       0          0 2022-03-13     Norwich City    Leeds United      L\n",
       "625       0          0 2022-04-02     Norwich City        Brighton      D\n",
       "626       1          1 2022-04-10     Norwich City         Burnley      W\n",
       "627       0          0 2022-04-16     Norwich City  Manchester Utd      L\n",
       "628       0          1 2022-04-23     Norwich City   Newcastle Utd      L\n",
       "\n",
       "[276 rows x 6 columns]"
      ]
     },
     "execution_count": 13,
     "metadata": {},
     "output_type": "execute_result"
    }
   ],
   "source": [
    "# Show the predicted and actual result of every matches, with more informations\n",
    "combined = pd.DataFrame(dict(actual = test[\"target\"], predicted = preds), index = test.index)\n",
    "combined = combined.merge(matches[[\"date\", \"team\", \"opponent\", \"result\"]], left_index = True, right_index = True)\n",
    "combined "
   ]
  },
  {
   "cell_type": "markdown",
   "id": "ee655122",
   "metadata": {
    "papermill": {
     "duration": 0.008739,
     "end_time": "2023-06-14T07:56:13.247684",
     "exception": false,
     "start_time": "2023-06-14T07:56:13.238945",
     "status": "completed"
    },
    "tags": []
   },
   "source": [
    "**Increasing the accuracy of our algorithm**\n",
    "\n",
    "One thing we can do to increase the accuracy of our algorithm is simply having the model to predict both sides of the match, as we are doing now we are predicting one side of the match, by merging the DataFrame with itself we can make the job. \n",
    "But first we will have to map all the team names in our DataSet, because they will appear with different names."
   ]
  },
  {
   "cell_type": "code",
   "execution_count": 14,
   "id": "0860eee4",
   "metadata": {
    "execution": {
     "iopub.execute_input": "2023-06-14T07:56:13.267126Z",
     "iopub.status.busy": "2023-06-14T07:56:13.266761Z",
     "iopub.status.idle": "2023-06-14T07:56:13.284624Z",
     "shell.execute_reply": "2023-06-14T07:56:13.283542Z"
    },
    "papermill": {
     "duration": 0.029985,
     "end_time": "2023-06-14T07:56:13.286616",
     "exception": false,
     "start_time": "2023-06-14T07:56:13.256631",
     "status": "completed"
    },
    "tags": []
   },
   "outputs": [
    {
     "data": {
      "text/html": [
       "<div>\n",
       "<style scoped>\n",
       "    .dataframe tbody tr th:only-of-type {\n",
       "        vertical-align: middle;\n",
       "    }\n",
       "\n",
       "    .dataframe tbody tr th {\n",
       "        vertical-align: top;\n",
       "    }\n",
       "\n",
       "    .dataframe thead th {\n",
       "        text-align: right;\n",
       "    }\n",
       "</style>\n",
       "<table border=\"1\" class=\"dataframe\">\n",
       "  <thead>\n",
       "    <tr style=\"text-align: right;\">\n",
       "      <th></th>\n",
       "      <th>actual</th>\n",
       "      <th>predicted</th>\n",
       "      <th>date</th>\n",
       "      <th>team</th>\n",
       "      <th>opponent</th>\n",
       "      <th>result</th>\n",
       "      <th>new_team</th>\n",
       "    </tr>\n",
       "  </thead>\n",
       "  <tbody>\n",
       "    <tr>\n",
       "      <th>21</th>\n",
       "      <td>1</td>\n",
       "      <td>0</td>\n",
       "      <td>2022-01-15</td>\n",
       "      <td>Manchester City</td>\n",
       "      <td>Chelsea</td>\n",
       "      <td>W</td>\n",
       "      <td>Manchester City</td>\n",
       "    </tr>\n",
       "    <tr>\n",
       "      <th>22</th>\n",
       "      <td>0</td>\n",
       "      <td>1</td>\n",
       "      <td>2022-01-22</td>\n",
       "      <td>Manchester City</td>\n",
       "      <td>Southampton</td>\n",
       "      <td>D</td>\n",
       "      <td>Manchester City</td>\n",
       "    </tr>\n",
       "    <tr>\n",
       "      <th>23</th>\n",
       "      <td>1</td>\n",
       "      <td>0</td>\n",
       "      <td>2022-02-09</td>\n",
       "      <td>Manchester City</td>\n",
       "      <td>Brentford</td>\n",
       "      <td>W</td>\n",
       "      <td>Manchester City</td>\n",
       "    </tr>\n",
       "    <tr>\n",
       "      <th>24</th>\n",
       "      <td>1</td>\n",
       "      <td>1</td>\n",
       "      <td>2022-02-12</td>\n",
       "      <td>Manchester City</td>\n",
       "      <td>Norwich City</td>\n",
       "      <td>W</td>\n",
       "      <td>Manchester City</td>\n",
       "    </tr>\n",
       "    <tr>\n",
       "      <th>25</th>\n",
       "      <td>0</td>\n",
       "      <td>1</td>\n",
       "      <td>2022-02-19</td>\n",
       "      <td>Manchester City</td>\n",
       "      <td>Tottenham</td>\n",
       "      <td>L</td>\n",
       "      <td>Manchester City</td>\n",
       "    </tr>\n",
       "    <tr>\n",
       "      <th>...</th>\n",
       "      <td>...</td>\n",
       "      <td>...</td>\n",
       "      <td>...</td>\n",
       "      <td>...</td>\n",
       "      <td>...</td>\n",
       "      <td>...</td>\n",
       "      <td>...</td>\n",
       "    </tr>\n",
       "    <tr>\n",
       "      <th>624</th>\n",
       "      <td>0</td>\n",
       "      <td>0</td>\n",
       "      <td>2022-03-13</td>\n",
       "      <td>Norwich City</td>\n",
       "      <td>Leeds United</td>\n",
       "      <td>L</td>\n",
       "      <td>Norwich City</td>\n",
       "    </tr>\n",
       "    <tr>\n",
       "      <th>625</th>\n",
       "      <td>0</td>\n",
       "      <td>0</td>\n",
       "      <td>2022-04-02</td>\n",
       "      <td>Norwich City</td>\n",
       "      <td>Brighton</td>\n",
       "      <td>D</td>\n",
       "      <td>Norwich City</td>\n",
       "    </tr>\n",
       "    <tr>\n",
       "      <th>626</th>\n",
       "      <td>1</td>\n",
       "      <td>1</td>\n",
       "      <td>2022-04-10</td>\n",
       "      <td>Norwich City</td>\n",
       "      <td>Burnley</td>\n",
       "      <td>W</td>\n",
       "      <td>Norwich City</td>\n",
       "    </tr>\n",
       "    <tr>\n",
       "      <th>627</th>\n",
       "      <td>0</td>\n",
       "      <td>0</td>\n",
       "      <td>2022-04-16</td>\n",
       "      <td>Norwich City</td>\n",
       "      <td>Manchester Utd</td>\n",
       "      <td>L</td>\n",
       "      <td>Norwich City</td>\n",
       "    </tr>\n",
       "    <tr>\n",
       "      <th>628</th>\n",
       "      <td>0</td>\n",
       "      <td>1</td>\n",
       "      <td>2022-04-23</td>\n",
       "      <td>Norwich City</td>\n",
       "      <td>Newcastle Utd</td>\n",
       "      <td>L</td>\n",
       "      <td>Norwich City</td>\n",
       "    </tr>\n",
       "  </tbody>\n",
       "</table>\n",
       "<p>276 rows × 7 columns</p>\n",
       "</div>"
      ],
      "text/plain": [
       "     actual  predicted       date             team        opponent result  \\\n",
       "21        1          0 2022-01-15  Manchester City         Chelsea      W   \n",
       "22        0          1 2022-01-22  Manchester City     Southampton      D   \n",
       "23        1          0 2022-02-09  Manchester City       Brentford      W   \n",
       "24        1          1 2022-02-12  Manchester City    Norwich City      W   \n",
       "25        0          1 2022-02-19  Manchester City       Tottenham      L   \n",
       "..      ...        ...        ...              ...             ...    ...   \n",
       "624       0          0 2022-03-13     Norwich City    Leeds United      L   \n",
       "625       0          0 2022-04-02     Norwich City        Brighton      D   \n",
       "626       1          1 2022-04-10     Norwich City         Burnley      W   \n",
       "627       0          0 2022-04-16     Norwich City  Manchester Utd      L   \n",
       "628       0          1 2022-04-23     Norwich City   Newcastle Utd      L   \n",
       "\n",
       "            new_team  \n",
       "21   Manchester City  \n",
       "22   Manchester City  \n",
       "23   Manchester City  \n",
       "24   Manchester City  \n",
       "25   Manchester City  \n",
       "..               ...  \n",
       "624     Norwich City  \n",
       "625     Norwich City  \n",
       "626     Norwich City  \n",
       "627     Norwich City  \n",
       "628     Norwich City  \n",
       "\n",
       "[276 rows x 7 columns]"
      ]
     },
     "execution_count": 14,
     "metadata": {},
     "output_type": "execute_result"
    }
   ],
   "source": [
    "# Fix and normalize the name of the teams\n",
    "\n",
    "class MissingDict(dict):\n",
    "    __missing__ = lambda self, key: key\n",
    "\n",
    "map_values = {\n",
    "    \"Brighton and Hove Albion\": \"Brighton\",\n",
    "    \"Manchester United\": \"Manchester Utd\",\n",
    "    \"Newcastle United\": \"Newcastle Utd\",\n",
    "    \"Tottenham Hotspur\": \"Tottenham\",\n",
    "    \"West Ham United\": \"West Ham\",\n",
    "    \"Wolverhampton Wanderers\": \"Wolves\"\n",
    "}\n",
    "mapping = MissingDict(**map_values)\n",
    "mapping[\"West Ham United\"]\n",
    "\n",
    "# Use the new mapped team name in the panda map method\n",
    "combined[\"new_team\"] = combined[\"team\"].map(mapping)\n",
    "combined\n"
   ]
  },
  {
   "cell_type": "markdown",
   "id": "795fe948",
   "metadata": {
    "papermill": {
     "duration": 0.008971,
     "end_time": "2023-06-14T07:56:13.304797",
     "exception": false,
     "start_time": "2023-06-14T07:56:13.295826",
     "status": "completed"
    },
    "tags": []
   },
   "source": [
    "**Showing the new results with more accuracy**\n",
    "\n",
    "Now, after merging the DataFrame with itselft we are able to show the new DataFrame and have more confidence with our predicted Data."
   ]
  },
  {
   "cell_type": "code",
   "execution_count": 15,
   "id": "1b3a099d",
   "metadata": {
    "execution": {
     "iopub.execute_input": "2023-06-14T07:56:13.324689Z",
     "iopub.status.busy": "2023-06-14T07:56:13.324303Z",
     "iopub.status.idle": "2023-06-14T07:56:13.353525Z",
     "shell.execute_reply": "2023-06-14T07:56:13.352281Z"
    },
    "papermill": {
     "duration": 0.041983,
     "end_time": "2023-06-14T07:56:13.355993",
     "exception": false,
     "start_time": "2023-06-14T07:56:13.314010",
     "status": "completed"
    },
    "tags": []
   },
   "outputs": [
    {
     "data": {
      "text/html": [
       "<div>\n",
       "<style scoped>\n",
       "    .dataframe tbody tr th:only-of-type {\n",
       "        vertical-align: middle;\n",
       "    }\n",
       "\n",
       "    .dataframe tbody tr th {\n",
       "        vertical-align: top;\n",
       "    }\n",
       "\n",
       "    .dataframe thead th {\n",
       "        text-align: right;\n",
       "    }\n",
       "</style>\n",
       "<table border=\"1\" class=\"dataframe\">\n",
       "  <thead>\n",
       "    <tr style=\"text-align: right;\">\n",
       "      <th></th>\n",
       "      <th>actual_x</th>\n",
       "      <th>predicted_x</th>\n",
       "      <th>date</th>\n",
       "      <th>team_x</th>\n",
       "      <th>opponent_x</th>\n",
       "      <th>result_x</th>\n",
       "      <th>new_team_x</th>\n",
       "      <th>actual_y</th>\n",
       "      <th>predicted_y</th>\n",
       "      <th>team_y</th>\n",
       "      <th>opponent_y</th>\n",
       "      <th>result_y</th>\n",
       "      <th>new_team_y</th>\n",
       "    </tr>\n",
       "  </thead>\n",
       "  <tbody>\n",
       "    <tr>\n",
       "      <th>0</th>\n",
       "      <td>1</td>\n",
       "      <td>0</td>\n",
       "      <td>2022-01-15</td>\n",
       "      <td>Manchester City</td>\n",
       "      <td>Chelsea</td>\n",
       "      <td>W</td>\n",
       "      <td>Manchester City</td>\n",
       "      <td>0</td>\n",
       "      <td>0</td>\n",
       "      <td>Chelsea</td>\n",
       "      <td>Manchester City</td>\n",
       "      <td>L</td>\n",
       "      <td>Chelsea</td>\n",
       "    </tr>\n",
       "    <tr>\n",
       "      <th>1</th>\n",
       "      <td>0</td>\n",
       "      <td>1</td>\n",
       "      <td>2022-01-22</td>\n",
       "      <td>Manchester City</td>\n",
       "      <td>Southampton</td>\n",
       "      <td>D</td>\n",
       "      <td>Manchester City</td>\n",
       "      <td>0</td>\n",
       "      <td>0</td>\n",
       "      <td>Southampton</td>\n",
       "      <td>Manchester City</td>\n",
       "      <td>D</td>\n",
       "      <td>Southampton</td>\n",
       "    </tr>\n",
       "    <tr>\n",
       "      <th>2</th>\n",
       "      <td>1</td>\n",
       "      <td>0</td>\n",
       "      <td>2022-02-09</td>\n",
       "      <td>Manchester City</td>\n",
       "      <td>Brentford</td>\n",
       "      <td>W</td>\n",
       "      <td>Manchester City</td>\n",
       "      <td>0</td>\n",
       "      <td>0</td>\n",
       "      <td>Brentford</td>\n",
       "      <td>Manchester City</td>\n",
       "      <td>L</td>\n",
       "      <td>Brentford</td>\n",
       "    </tr>\n",
       "    <tr>\n",
       "      <th>3</th>\n",
       "      <td>1</td>\n",
       "      <td>1</td>\n",
       "      <td>2022-02-12</td>\n",
       "      <td>Manchester City</td>\n",
       "      <td>Norwich City</td>\n",
       "      <td>W</td>\n",
       "      <td>Manchester City</td>\n",
       "      <td>0</td>\n",
       "      <td>0</td>\n",
       "      <td>Norwich City</td>\n",
       "      <td>Manchester City</td>\n",
       "      <td>L</td>\n",
       "      <td>Norwich City</td>\n",
       "    </tr>\n",
       "    <tr>\n",
       "      <th>4</th>\n",
       "      <td>0</td>\n",
       "      <td>1</td>\n",
       "      <td>2022-02-19</td>\n",
       "      <td>Manchester City</td>\n",
       "      <td>Tottenham</td>\n",
       "      <td>L</td>\n",
       "      <td>Manchester City</td>\n",
       "      <td>1</td>\n",
       "      <td>0</td>\n",
       "      <td>Tottenham Hotspur</td>\n",
       "      <td>Manchester City</td>\n",
       "      <td>W</td>\n",
       "      <td>Tottenham</td>\n",
       "    </tr>\n",
       "    <tr>\n",
       "      <th>...</th>\n",
       "      <td>...</td>\n",
       "      <td>...</td>\n",
       "      <td>...</td>\n",
       "      <td>...</td>\n",
       "      <td>...</td>\n",
       "      <td>...</td>\n",
       "      <td>...</td>\n",
       "      <td>...</td>\n",
       "      <td>...</td>\n",
       "      <td>...</td>\n",
       "      <td>...</td>\n",
       "      <td>...</td>\n",
       "      <td>...</td>\n",
       "    </tr>\n",
       "    <tr>\n",
       "      <th>257</th>\n",
       "      <td>0</td>\n",
       "      <td>0</td>\n",
       "      <td>2022-03-13</td>\n",
       "      <td>Norwich City</td>\n",
       "      <td>Leeds United</td>\n",
       "      <td>L</td>\n",
       "      <td>Norwich City</td>\n",
       "      <td>1</td>\n",
       "      <td>1</td>\n",
       "      <td>Leeds United</td>\n",
       "      <td>Norwich City</td>\n",
       "      <td>W</td>\n",
       "      <td>Leeds United</td>\n",
       "    </tr>\n",
       "    <tr>\n",
       "      <th>258</th>\n",
       "      <td>0</td>\n",
       "      <td>0</td>\n",
       "      <td>2022-04-02</td>\n",
       "      <td>Norwich City</td>\n",
       "      <td>Brighton</td>\n",
       "      <td>D</td>\n",
       "      <td>Norwich City</td>\n",
       "      <td>0</td>\n",
       "      <td>1</td>\n",
       "      <td>Brighton and Hove Albion</td>\n",
       "      <td>Norwich City</td>\n",
       "      <td>D</td>\n",
       "      <td>Brighton</td>\n",
       "    </tr>\n",
       "    <tr>\n",
       "      <th>259</th>\n",
       "      <td>1</td>\n",
       "      <td>1</td>\n",
       "      <td>2022-04-10</td>\n",
       "      <td>Norwich City</td>\n",
       "      <td>Burnley</td>\n",
       "      <td>W</td>\n",
       "      <td>Norwich City</td>\n",
       "      <td>0</td>\n",
       "      <td>1</td>\n",
       "      <td>Burnley</td>\n",
       "      <td>Norwich City</td>\n",
       "      <td>L</td>\n",
       "      <td>Burnley</td>\n",
       "    </tr>\n",
       "    <tr>\n",
       "      <th>260</th>\n",
       "      <td>0</td>\n",
       "      <td>0</td>\n",
       "      <td>2022-04-16</td>\n",
       "      <td>Norwich City</td>\n",
       "      <td>Manchester Utd</td>\n",
       "      <td>L</td>\n",
       "      <td>Norwich City</td>\n",
       "      <td>1</td>\n",
       "      <td>1</td>\n",
       "      <td>Manchester United</td>\n",
       "      <td>Norwich City</td>\n",
       "      <td>W</td>\n",
       "      <td>Manchester Utd</td>\n",
       "    </tr>\n",
       "    <tr>\n",
       "      <th>261</th>\n",
       "      <td>0</td>\n",
       "      <td>1</td>\n",
       "      <td>2022-04-23</td>\n",
       "      <td>Norwich City</td>\n",
       "      <td>Newcastle Utd</td>\n",
       "      <td>L</td>\n",
       "      <td>Norwich City</td>\n",
       "      <td>1</td>\n",
       "      <td>1</td>\n",
       "      <td>Newcastle United</td>\n",
       "      <td>Norwich City</td>\n",
       "      <td>W</td>\n",
       "      <td>Newcastle Utd</td>\n",
       "    </tr>\n",
       "  </tbody>\n",
       "</table>\n",
       "<p>262 rows × 13 columns</p>\n",
       "</div>"
      ],
      "text/plain": [
       "     actual_x  predicted_x       date           team_x      opponent_x  \\\n",
       "0           1            0 2022-01-15  Manchester City         Chelsea   \n",
       "1           0            1 2022-01-22  Manchester City     Southampton   \n",
       "2           1            0 2022-02-09  Manchester City       Brentford   \n",
       "3           1            1 2022-02-12  Manchester City    Norwich City   \n",
       "4           0            1 2022-02-19  Manchester City       Tottenham   \n",
       "..        ...          ...        ...              ...             ...   \n",
       "257         0            0 2022-03-13     Norwich City    Leeds United   \n",
       "258         0            0 2022-04-02     Norwich City        Brighton   \n",
       "259         1            1 2022-04-10     Norwich City         Burnley   \n",
       "260         0            0 2022-04-16     Norwich City  Manchester Utd   \n",
       "261         0            1 2022-04-23     Norwich City   Newcastle Utd   \n",
       "\n",
       "    result_x       new_team_x  actual_y  predicted_y  \\\n",
       "0          W  Manchester City         0            0   \n",
       "1          D  Manchester City         0            0   \n",
       "2          W  Manchester City         0            0   \n",
       "3          W  Manchester City         0            0   \n",
       "4          L  Manchester City         1            0   \n",
       "..       ...              ...       ...          ...   \n",
       "257        L     Norwich City         1            1   \n",
       "258        D     Norwich City         0            1   \n",
       "259        W     Norwich City         0            1   \n",
       "260        L     Norwich City         1            1   \n",
       "261        L     Norwich City         1            1   \n",
       "\n",
       "                       team_y       opponent_y result_y      new_team_y  \n",
       "0                     Chelsea  Manchester City        L         Chelsea  \n",
       "1                 Southampton  Manchester City        D     Southampton  \n",
       "2                   Brentford  Manchester City        L       Brentford  \n",
       "3                Norwich City  Manchester City        L    Norwich City  \n",
       "4           Tottenham Hotspur  Manchester City        W       Tottenham  \n",
       "..                        ...              ...      ...             ...  \n",
       "257              Leeds United     Norwich City        W    Leeds United  \n",
       "258  Brighton and Hove Albion     Norwich City        D        Brighton  \n",
       "259                   Burnley     Norwich City        L         Burnley  \n",
       "260         Manchester United     Norwich City        W  Manchester Utd  \n",
       "261          Newcastle United     Norwich City        W   Newcastle Utd  \n",
       "\n",
       "[262 rows x 13 columns]"
      ]
     },
     "execution_count": 15,
     "metadata": {},
     "output_type": "execute_result"
    }
   ],
   "source": [
    "# Use the new column to merge the Dataframe with itself, so we can check if the predictions is the same on both side\n",
    "merged = combined.merge(combined, left_on = [\"date\", \"new_team\"], right_on = [\"date\", \"opponent\"])\n",
    "merged"
   ]
  },
  {
   "cell_type": "markdown",
   "id": "29f9fda3",
   "metadata": {
    "papermill": {
     "duration": 0.00969,
     "end_time": "2023-06-14T07:56:13.375606",
     "exception": false,
     "start_time": "2023-06-14T07:56:13.365916",
     "status": "completed"
    },
    "tags": []
   },
   "source": [
    "**Another prediction**\n",
    "\n",
    "One more thing we can do, in order to have more confidence is checking where the predicted values are actually coherent. If in the first match we predicted the team One to win and the team Two to Loose, than it means the data we predicted are more consisent. "
   ]
  },
  {
   "cell_type": "code",
   "execution_count": 16,
   "id": "c6dc92b0",
   "metadata": {
    "execution": {
     "iopub.execute_input": "2023-06-14T07:56:13.397030Z",
     "iopub.status.busy": "2023-06-14T07:56:13.396654Z",
     "iopub.status.idle": "2023-06-14T07:56:13.406878Z",
     "shell.execute_reply": "2023-06-14T07:56:13.406096Z"
    },
    "papermill": {
     "duration": 0.023927,
     "end_time": "2023-06-14T07:56:13.409155",
     "exception": false,
     "start_time": "2023-06-14T07:56:13.385228",
     "status": "completed"
    },
    "tags": []
   },
   "outputs": [
    {
     "data": {
      "text/plain": [
       "0    26\n",
       "1    22\n",
       "Name: actual_x, dtype: int64"
      ]
     },
     "execution_count": 16,
     "metadata": {},
     "output_type": "execute_result"
    }
   ],
   "source": [
    "# take a look at where one time was predicted to win and the other was predicted to loose, so where the algorithm has more confidence \n",
    "merged[(merged[\"predicted_x\"] == 1 ) & (merged[\"predicted_y\"] == 0)][\"actual_x\"].value_counts()"
   ]
  },
  {
   "cell_type": "markdown",
   "id": "f5b07a23",
   "metadata": {
    "papermill": {
     "duration": 0.010036,
     "end_time": "2023-06-14T07:56:13.429514",
     "exception": false,
     "start_time": "2023-06-14T07:56:13.419478",
     "status": "completed"
    },
    "tags": []
   },
   "source": [
    "**Calculating the new accuracy**\n",
    "\n",
    "With these new data we can calculate the new accuracy by just dividing our right prediction by the all matches. And as we can see we managed to increase our accuracy by 10%."
   ]
  },
  {
   "cell_type": "code",
   "execution_count": 17,
   "id": "9128cecd",
   "metadata": {
    "execution": {
     "iopub.execute_input": "2023-06-14T07:56:13.451669Z",
     "iopub.status.busy": "2023-06-14T07:56:13.451295Z",
     "iopub.status.idle": "2023-06-14T07:56:13.456944Z",
     "shell.execute_reply": "2023-06-14T07:56:13.456061Z"
    },
    "papermill": {
     "duration": 0.019505,
     "end_time": "2023-06-14T07:56:13.458813",
     "exception": false,
     "start_time": "2023-06-14T07:56:13.439308",
     "status": "completed"
    },
    "tags": []
   },
   "outputs": [
    {
     "data": {
      "text/plain": [
       "0.5416666666666666"
      ]
     },
     "execution_count": 17,
     "metadata": {},
     "output_type": "execute_result"
    }
   ],
   "source": [
    "# Checking the accuracy by diving 26 / 22\n",
    "26 / 48"
   ]
  },
  {
   "cell_type": "markdown",
   "id": "28051ed8",
   "metadata": {
    "papermill": {
     "duration": 0.0096,
     "end_time": "2023-06-14T07:56:13.478513",
     "exception": false,
     "start_time": "2023-06-14T07:56:13.468913",
     "status": "completed"
    },
    "tags": []
   },
   "source": [
    "**Improve the accuracy even more**\n",
    "\n",
    "In order to improve the accuracy even more, the things we can do are actually a lot, for example increasing the Dataset, increasing our predictors, use the rolling average method and so on..."
   ]
  }
 ],
 "metadata": {
  "kernelspec": {
   "display_name": "Python 3",
   "language": "python",
   "name": "python3"
  },
  "language_info": {
   "codemirror_mode": {
    "name": "ipython",
    "version": 3
   },
   "file_extension": ".py",
   "mimetype": "text/x-python",
   "name": "python",
   "nbconvert_exporter": "python",
   "pygments_lexer": "ipython3",
   "version": "3.10.10"
  },
  "papermill": {
   "default_parameters": {},
   "duration": 15.539923,
   "end_time": "2023-06-14T07:56:14.511678",
   "environment_variables": {},
   "exception": null,
   "input_path": "__notebook__.ipynb",
   "output_path": "__notebook__.ipynb",
   "parameters": {},
   "start_time": "2023-06-14T07:55:58.971755",
   "version": "2.4.0"
  }
 },
 "nbformat": 4,
 "nbformat_minor": 5
}
